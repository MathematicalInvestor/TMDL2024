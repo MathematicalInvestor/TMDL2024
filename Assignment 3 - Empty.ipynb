{
 "cells": [
  {
   "cell_type": "markdown",
   "id": "43554d37",
   "metadata": {},
   "source": [
    "# Turing Machine and Deep Learning 2023\n",
    "\n",
    "## Assignment Unupervised ML\n",
    "\n",
    "This notebook is meant for you to review and reflect on the content of Lecture 3, which was mainly about unsupervised learning problems. As with last week, this notebook should not be too much quantitative work (lines of code) but keep in mind that running this notebook may take a longer time than you may be used to for python programs (*training good models take time!*) \n",
    "\n",
    "### Handing in your Assignment\n",
    "\n",
    "Git is an invaluable resource to researchers and developers, and thus for this course, all course material will be (additionally) shared on GitHub. Though there is a tiny bit of a learning curve, this is worth the effort. To hand in your assignment (applicable to all weeks):\n",
    "\n",
    "1. Create a folder called \"Week 2\" and copy this notebook and any other files or data that may be needed.\n",
    "2. Finish the notebook and commit and push regularly. Your final commit before the deadline will be graded. \n",
    "\n",
    "\n",
    "### Grading\n",
    "\n",
    "Each one of the (sub-)questions below will be graded either 0 (insufficient), 1 (sufficient) or 2 (good). If $N$ is the number of sub-questions, and $p_i$ is your score for sub-question $i$, your total grade $G$ for this assignment is:\n",
    "$$G=\\frac{1}{2 N}\\sum_{i=0}^{N}p_i$$"
   ]
  },
  {
   "cell_type": "code",
   "execution_count": 1,
   "id": "52fbab8b",
   "metadata": {},
   "outputs": [],
   "source": [
    "# load common libraries\n",
    "import numpy as np                 # maths\n",
    "import matplotlib.pyplot as plt    # plotting\n",
    "import pandas as pd                # data manipulation\n",
    "from tqdm import tqdm              # loading bar\n",
    "from time import perf_counter      # timer    my friends agree rhgat you are suoer handsome heheheh "
   ]
  },
  {
   "cell_type": "markdown",
   "id": "bf4c3a0a",
   "metadata": {},
   "source": [
    "# Q1 Loading and preprocessing data\n",
    "\n",
    "In this repository, you should find a file called `tmdb_5000_movies.csv` which is information from a subset of movies on The Movie Database."
   ]
  },
  {
   "cell_type": "markdown",
   "id": "40715541",
   "metadata": {},
   "source": [
    "### Q.1.1 \n",
    "Use pandas to read in the csv file (refer to [read_csv](https://pandas.pydata.org/docs/reference/api/pandas.read_csv.html) if you're unfamiliar)."
   ]
  },
  {
   "cell_type": "code",
   "execution_count": 2,
   "id": "c10a5202",
   "metadata": {},
   "outputs": [
    {
     "data": {
      "text/html": [
       "<div>\n",
       "<style scoped>\n",
       "    .dataframe tbody tr th:only-of-type {\n",
       "        vertical-align: middle;\n",
       "    }\n",
       "\n",
       "    .dataframe tbody tr th {\n",
       "        vertical-align: top;\n",
       "    }\n",
       "\n",
       "    .dataframe thead th {\n",
       "        text-align: right;\n",
       "    }\n",
       "</style>\n",
       "<table border=\"1\" class=\"dataframe\">\n",
       "  <thead>\n",
       "    <tr style=\"text-align: right;\">\n",
       "      <th></th>\n",
       "      <th>budget</th>\n",
       "      <th>genres</th>\n",
       "      <th>homepage</th>\n",
       "      <th>id</th>\n",
       "      <th>keywords</th>\n",
       "      <th>original_language</th>\n",
       "      <th>original_title</th>\n",
       "      <th>overview</th>\n",
       "      <th>popularity</th>\n",
       "      <th>production_companies</th>\n",
       "      <th>production_countries</th>\n",
       "      <th>release_date</th>\n",
       "      <th>revenue</th>\n",
       "      <th>runtime</th>\n",
       "      <th>spoken_languages</th>\n",
       "      <th>status</th>\n",
       "      <th>tagline</th>\n",
       "      <th>title</th>\n",
       "      <th>vote_average</th>\n",
       "      <th>vote_count</th>\n",
       "    </tr>\n",
       "  </thead>\n",
       "  <tbody>\n",
       "    <tr>\n",
       "      <th>0</th>\n",
       "      <td>237000000</td>\n",
       "      <td>[{\"id\": 28, \"name\": \"Action\"}, {\"id\": 12, \"nam...</td>\n",
       "      <td>http://www.avatarmovie.com/</td>\n",
       "      <td>19995</td>\n",
       "      <td>[{\"id\": 1463, \"name\": \"culture clash\"}, {\"id\":...</td>\n",
       "      <td>en</td>\n",
       "      <td>Avatar</td>\n",
       "      <td>In the 22nd century, a paraplegic Marine is di...</td>\n",
       "      <td>150.437577</td>\n",
       "      <td>[{\"name\": \"Ingenious Film Partners\", \"id\": 289...</td>\n",
       "      <td>[{\"iso_3166_1\": \"US\", \"name\": \"United States o...</td>\n",
       "      <td>2009-12-10</td>\n",
       "      <td>2787965087</td>\n",
       "      <td>162.0</td>\n",
       "      <td>[{\"iso_639_1\": \"en\", \"name\": \"English\"}, {\"iso...</td>\n",
       "      <td>Released</td>\n",
       "      <td>Enter the World of Pandora.</td>\n",
       "      <td>Avatar</td>\n",
       "      <td>7.2</td>\n",
       "      <td>11800</td>\n",
       "    </tr>\n",
       "    <tr>\n",
       "      <th>1</th>\n",
       "      <td>300000000</td>\n",
       "      <td>[{\"id\": 12, \"name\": \"Adventure\"}, {\"id\": 14, \"...</td>\n",
       "      <td>http://disney.go.com/disneypictures/pirates/</td>\n",
       "      <td>285</td>\n",
       "      <td>[{\"id\": 270, \"name\": \"ocean\"}, {\"id\": 726, \"na...</td>\n",
       "      <td>en</td>\n",
       "      <td>Pirates of the Caribbean: At World's End</td>\n",
       "      <td>Captain Barbossa, long believed to be dead, ha...</td>\n",
       "      <td>139.082615</td>\n",
       "      <td>[{\"name\": \"Walt Disney Pictures\", \"id\": 2}, {\"...</td>\n",
       "      <td>[{\"iso_3166_1\": \"US\", \"name\": \"United States o...</td>\n",
       "      <td>2007-05-19</td>\n",
       "      <td>961000000</td>\n",
       "      <td>169.0</td>\n",
       "      <td>[{\"iso_639_1\": \"en\", \"name\": \"English\"}]</td>\n",
       "      <td>Released</td>\n",
       "      <td>At the end of the world, the adventure begins.</td>\n",
       "      <td>Pirates of the Caribbean: At World's End</td>\n",
       "      <td>6.9</td>\n",
       "      <td>4500</td>\n",
       "    </tr>\n",
       "    <tr>\n",
       "      <th>2</th>\n",
       "      <td>245000000</td>\n",
       "      <td>[{\"id\": 28, \"name\": \"Action\"}, {\"id\": 12, \"nam...</td>\n",
       "      <td>http://www.sonypictures.com/movies/spectre/</td>\n",
       "      <td>206647</td>\n",
       "      <td>[{\"id\": 470, \"name\": \"spy\"}, {\"id\": 818, \"name...</td>\n",
       "      <td>en</td>\n",
       "      <td>Spectre</td>\n",
       "      <td>A cryptic message from Bond’s past sends him o...</td>\n",
       "      <td>107.376788</td>\n",
       "      <td>[{\"name\": \"Columbia Pictures\", \"id\": 5}, {\"nam...</td>\n",
       "      <td>[{\"iso_3166_1\": \"GB\", \"name\": \"United Kingdom\"...</td>\n",
       "      <td>2015-10-26</td>\n",
       "      <td>880674609</td>\n",
       "      <td>148.0</td>\n",
       "      <td>[{\"iso_639_1\": \"fr\", \"name\": \"Fran\\u00e7ais\"},...</td>\n",
       "      <td>Released</td>\n",
       "      <td>A Plan No One Escapes</td>\n",
       "      <td>Spectre</td>\n",
       "      <td>6.3</td>\n",
       "      <td>4466</td>\n",
       "    </tr>\n",
       "    <tr>\n",
       "      <th>3</th>\n",
       "      <td>250000000</td>\n",
       "      <td>[{\"id\": 28, \"name\": \"Action\"}, {\"id\": 80, \"nam...</td>\n",
       "      <td>http://www.thedarkknightrises.com/</td>\n",
       "      <td>49026</td>\n",
       "      <td>[{\"id\": 849, \"name\": \"dc comics\"}, {\"id\": 853,...</td>\n",
       "      <td>en</td>\n",
       "      <td>The Dark Knight Rises</td>\n",
       "      <td>Following the death of District Attorney Harve...</td>\n",
       "      <td>112.312950</td>\n",
       "      <td>[{\"name\": \"Legendary Pictures\", \"id\": 923}, {\"...</td>\n",
       "      <td>[{\"iso_3166_1\": \"US\", \"name\": \"United States o...</td>\n",
       "      <td>2012-07-16</td>\n",
       "      <td>1084939099</td>\n",
       "      <td>165.0</td>\n",
       "      <td>[{\"iso_639_1\": \"en\", \"name\": \"English\"}]</td>\n",
       "      <td>Released</td>\n",
       "      <td>The Legend Ends</td>\n",
       "      <td>The Dark Knight Rises</td>\n",
       "      <td>7.6</td>\n",
       "      <td>9106</td>\n",
       "    </tr>\n",
       "    <tr>\n",
       "      <th>4</th>\n",
       "      <td>260000000</td>\n",
       "      <td>[{\"id\": 28, \"name\": \"Action\"}, {\"id\": 12, \"nam...</td>\n",
       "      <td>http://movies.disney.com/john-carter</td>\n",
       "      <td>49529</td>\n",
       "      <td>[{\"id\": 818, \"name\": \"based on novel\"}, {\"id\":...</td>\n",
       "      <td>en</td>\n",
       "      <td>John Carter</td>\n",
       "      <td>John Carter is a war-weary, former military ca...</td>\n",
       "      <td>43.926995</td>\n",
       "      <td>[{\"name\": \"Walt Disney Pictures\", \"id\": 2}]</td>\n",
       "      <td>[{\"iso_3166_1\": \"US\", \"name\": \"United States o...</td>\n",
       "      <td>2012-03-07</td>\n",
       "      <td>284139100</td>\n",
       "      <td>132.0</td>\n",
       "      <td>[{\"iso_639_1\": \"en\", \"name\": \"English\"}]</td>\n",
       "      <td>Released</td>\n",
       "      <td>Lost in our world, found in another.</td>\n",
       "      <td>John Carter</td>\n",
       "      <td>6.1</td>\n",
       "      <td>2124</td>\n",
       "    </tr>\n",
       "    <tr>\n",
       "      <th>...</th>\n",
       "      <td>...</td>\n",
       "      <td>...</td>\n",
       "      <td>...</td>\n",
       "      <td>...</td>\n",
       "      <td>...</td>\n",
       "      <td>...</td>\n",
       "      <td>...</td>\n",
       "      <td>...</td>\n",
       "      <td>...</td>\n",
       "      <td>...</td>\n",
       "      <td>...</td>\n",
       "      <td>...</td>\n",
       "      <td>...</td>\n",
       "      <td>...</td>\n",
       "      <td>...</td>\n",
       "      <td>...</td>\n",
       "      <td>...</td>\n",
       "      <td>...</td>\n",
       "      <td>...</td>\n",
       "      <td>...</td>\n",
       "    </tr>\n",
       "    <tr>\n",
       "      <th>4798</th>\n",
       "      <td>220000</td>\n",
       "      <td>[{\"id\": 28, \"name\": \"Action\"}, {\"id\": 80, \"nam...</td>\n",
       "      <td>NaN</td>\n",
       "      <td>9367</td>\n",
       "      <td>[{\"id\": 5616, \"name\": \"united states\\u2013mexi...</td>\n",
       "      <td>es</td>\n",
       "      <td>El Mariachi</td>\n",
       "      <td>El Mariachi just wants to play his guitar and ...</td>\n",
       "      <td>14.269792</td>\n",
       "      <td>[{\"name\": \"Columbia Pictures\", \"id\": 5}]</td>\n",
       "      <td>[{\"iso_3166_1\": \"MX\", \"name\": \"Mexico\"}, {\"iso...</td>\n",
       "      <td>1992-09-04</td>\n",
       "      <td>2040920</td>\n",
       "      <td>81.0</td>\n",
       "      <td>[{\"iso_639_1\": \"es\", \"name\": \"Espa\\u00f1ol\"}]</td>\n",
       "      <td>Released</td>\n",
       "      <td>He didn't come looking for trouble, but troubl...</td>\n",
       "      <td>El Mariachi</td>\n",
       "      <td>6.6</td>\n",
       "      <td>238</td>\n",
       "    </tr>\n",
       "    <tr>\n",
       "      <th>4799</th>\n",
       "      <td>9000</td>\n",
       "      <td>[{\"id\": 35, \"name\": \"Comedy\"}, {\"id\": 10749, \"...</td>\n",
       "      <td>NaN</td>\n",
       "      <td>72766</td>\n",
       "      <td>[]</td>\n",
       "      <td>en</td>\n",
       "      <td>Newlyweds</td>\n",
       "      <td>A newlywed couple's honeymoon is upended by th...</td>\n",
       "      <td>0.642552</td>\n",
       "      <td>[]</td>\n",
       "      <td>[]</td>\n",
       "      <td>2011-12-26</td>\n",
       "      <td>0</td>\n",
       "      <td>85.0</td>\n",
       "      <td>[]</td>\n",
       "      <td>Released</td>\n",
       "      <td>A newlywed couple's honeymoon is upended by th...</td>\n",
       "      <td>Newlyweds</td>\n",
       "      <td>5.9</td>\n",
       "      <td>5</td>\n",
       "    </tr>\n",
       "    <tr>\n",
       "      <th>4800</th>\n",
       "      <td>0</td>\n",
       "      <td>[{\"id\": 35, \"name\": \"Comedy\"}, {\"id\": 18, \"nam...</td>\n",
       "      <td>http://www.hallmarkchannel.com/signedsealeddel...</td>\n",
       "      <td>231617</td>\n",
       "      <td>[{\"id\": 248, \"name\": \"date\"}, {\"id\": 699, \"nam...</td>\n",
       "      <td>en</td>\n",
       "      <td>Signed, Sealed, Delivered</td>\n",
       "      <td>\"Signed, Sealed, Delivered\" introduces a dedic...</td>\n",
       "      <td>1.444476</td>\n",
       "      <td>[{\"name\": \"Front Street Pictures\", \"id\": 3958}...</td>\n",
       "      <td>[{\"iso_3166_1\": \"US\", \"name\": \"United States o...</td>\n",
       "      <td>2013-10-13</td>\n",
       "      <td>0</td>\n",
       "      <td>120.0</td>\n",
       "      <td>[{\"iso_639_1\": \"en\", \"name\": \"English\"}]</td>\n",
       "      <td>Released</td>\n",
       "      <td>NaN</td>\n",
       "      <td>Signed, Sealed, Delivered</td>\n",
       "      <td>7.0</td>\n",
       "      <td>6</td>\n",
       "    </tr>\n",
       "    <tr>\n",
       "      <th>4801</th>\n",
       "      <td>0</td>\n",
       "      <td>[]</td>\n",
       "      <td>http://shanghaicalling.com/</td>\n",
       "      <td>126186</td>\n",
       "      <td>[]</td>\n",
       "      <td>en</td>\n",
       "      <td>Shanghai Calling</td>\n",
       "      <td>When ambitious New York attorney Sam is sent t...</td>\n",
       "      <td>0.857008</td>\n",
       "      <td>[]</td>\n",
       "      <td>[{\"iso_3166_1\": \"US\", \"name\": \"United States o...</td>\n",
       "      <td>2012-05-03</td>\n",
       "      <td>0</td>\n",
       "      <td>98.0</td>\n",
       "      <td>[{\"iso_639_1\": \"en\", \"name\": \"English\"}]</td>\n",
       "      <td>Released</td>\n",
       "      <td>A New Yorker in Shanghai</td>\n",
       "      <td>Shanghai Calling</td>\n",
       "      <td>5.7</td>\n",
       "      <td>7</td>\n",
       "    </tr>\n",
       "    <tr>\n",
       "      <th>4802</th>\n",
       "      <td>0</td>\n",
       "      <td>[{\"id\": 99, \"name\": \"Documentary\"}]</td>\n",
       "      <td>NaN</td>\n",
       "      <td>25975</td>\n",
       "      <td>[{\"id\": 1523, \"name\": \"obsession\"}, {\"id\": 224...</td>\n",
       "      <td>en</td>\n",
       "      <td>My Date with Drew</td>\n",
       "      <td>Ever since the second grade when he first saw ...</td>\n",
       "      <td>1.929883</td>\n",
       "      <td>[{\"name\": \"rusty bear entertainment\", \"id\": 87...</td>\n",
       "      <td>[{\"iso_3166_1\": \"US\", \"name\": \"United States o...</td>\n",
       "      <td>2005-08-05</td>\n",
       "      <td>0</td>\n",
       "      <td>90.0</td>\n",
       "      <td>[{\"iso_639_1\": \"en\", \"name\": \"English\"}]</td>\n",
       "      <td>Released</td>\n",
       "      <td>NaN</td>\n",
       "      <td>My Date with Drew</td>\n",
       "      <td>6.3</td>\n",
       "      <td>16</td>\n",
       "    </tr>\n",
       "  </tbody>\n",
       "</table>\n",
       "<p>4803 rows × 20 columns</p>\n",
       "</div>"
      ],
      "text/plain": [
       "         budget                                             genres  \\\n",
       "0     237000000  [{\"id\": 28, \"name\": \"Action\"}, {\"id\": 12, \"nam...   \n",
       "1     300000000  [{\"id\": 12, \"name\": \"Adventure\"}, {\"id\": 14, \"...   \n",
       "2     245000000  [{\"id\": 28, \"name\": \"Action\"}, {\"id\": 12, \"nam...   \n",
       "3     250000000  [{\"id\": 28, \"name\": \"Action\"}, {\"id\": 80, \"nam...   \n",
       "4     260000000  [{\"id\": 28, \"name\": \"Action\"}, {\"id\": 12, \"nam...   \n",
       "...         ...                                                ...   \n",
       "4798     220000  [{\"id\": 28, \"name\": \"Action\"}, {\"id\": 80, \"nam...   \n",
       "4799       9000  [{\"id\": 35, \"name\": \"Comedy\"}, {\"id\": 10749, \"...   \n",
       "4800          0  [{\"id\": 35, \"name\": \"Comedy\"}, {\"id\": 18, \"nam...   \n",
       "4801          0                                                 []   \n",
       "4802          0                [{\"id\": 99, \"name\": \"Documentary\"}]   \n",
       "\n",
       "                                               homepage      id  \\\n",
       "0                           http://www.avatarmovie.com/   19995   \n",
       "1          http://disney.go.com/disneypictures/pirates/     285   \n",
       "2           http://www.sonypictures.com/movies/spectre/  206647   \n",
       "3                    http://www.thedarkknightrises.com/   49026   \n",
       "4                  http://movies.disney.com/john-carter   49529   \n",
       "...                                                 ...     ...   \n",
       "4798                                                NaN    9367   \n",
       "4799                                                NaN   72766   \n",
       "4800  http://www.hallmarkchannel.com/signedsealeddel...  231617   \n",
       "4801                        http://shanghaicalling.com/  126186   \n",
       "4802                                                NaN   25975   \n",
       "\n",
       "                                               keywords original_language  \\\n",
       "0     [{\"id\": 1463, \"name\": \"culture clash\"}, {\"id\":...                en   \n",
       "1     [{\"id\": 270, \"name\": \"ocean\"}, {\"id\": 726, \"na...                en   \n",
       "2     [{\"id\": 470, \"name\": \"spy\"}, {\"id\": 818, \"name...                en   \n",
       "3     [{\"id\": 849, \"name\": \"dc comics\"}, {\"id\": 853,...                en   \n",
       "4     [{\"id\": 818, \"name\": \"based on novel\"}, {\"id\":...                en   \n",
       "...                                                 ...               ...   \n",
       "4798  [{\"id\": 5616, \"name\": \"united states\\u2013mexi...                es   \n",
       "4799                                                 []                en   \n",
       "4800  [{\"id\": 248, \"name\": \"date\"}, {\"id\": 699, \"nam...                en   \n",
       "4801                                                 []                en   \n",
       "4802  [{\"id\": 1523, \"name\": \"obsession\"}, {\"id\": 224...                en   \n",
       "\n",
       "                                original_title  \\\n",
       "0                                       Avatar   \n",
       "1     Pirates of the Caribbean: At World's End   \n",
       "2                                      Spectre   \n",
       "3                        The Dark Knight Rises   \n",
       "4                                  John Carter   \n",
       "...                                        ...   \n",
       "4798                               El Mariachi   \n",
       "4799                                 Newlyweds   \n",
       "4800                 Signed, Sealed, Delivered   \n",
       "4801                          Shanghai Calling   \n",
       "4802                         My Date with Drew   \n",
       "\n",
       "                                               overview  popularity  \\\n",
       "0     In the 22nd century, a paraplegic Marine is di...  150.437577   \n",
       "1     Captain Barbossa, long believed to be dead, ha...  139.082615   \n",
       "2     A cryptic message from Bond’s past sends him o...  107.376788   \n",
       "3     Following the death of District Attorney Harve...  112.312950   \n",
       "4     John Carter is a war-weary, former military ca...   43.926995   \n",
       "...                                                 ...         ...   \n",
       "4798  El Mariachi just wants to play his guitar and ...   14.269792   \n",
       "4799  A newlywed couple's honeymoon is upended by th...    0.642552   \n",
       "4800  \"Signed, Sealed, Delivered\" introduces a dedic...    1.444476   \n",
       "4801  When ambitious New York attorney Sam is sent t...    0.857008   \n",
       "4802  Ever since the second grade when he first saw ...    1.929883   \n",
       "\n",
       "                                   production_companies  \\\n",
       "0     [{\"name\": \"Ingenious Film Partners\", \"id\": 289...   \n",
       "1     [{\"name\": \"Walt Disney Pictures\", \"id\": 2}, {\"...   \n",
       "2     [{\"name\": \"Columbia Pictures\", \"id\": 5}, {\"nam...   \n",
       "3     [{\"name\": \"Legendary Pictures\", \"id\": 923}, {\"...   \n",
       "4           [{\"name\": \"Walt Disney Pictures\", \"id\": 2}]   \n",
       "...                                                 ...   \n",
       "4798           [{\"name\": \"Columbia Pictures\", \"id\": 5}]   \n",
       "4799                                                 []   \n",
       "4800  [{\"name\": \"Front Street Pictures\", \"id\": 3958}...   \n",
       "4801                                                 []   \n",
       "4802  [{\"name\": \"rusty bear entertainment\", \"id\": 87...   \n",
       "\n",
       "                                   production_countries release_date  \\\n",
       "0     [{\"iso_3166_1\": \"US\", \"name\": \"United States o...   2009-12-10   \n",
       "1     [{\"iso_3166_1\": \"US\", \"name\": \"United States o...   2007-05-19   \n",
       "2     [{\"iso_3166_1\": \"GB\", \"name\": \"United Kingdom\"...   2015-10-26   \n",
       "3     [{\"iso_3166_1\": \"US\", \"name\": \"United States o...   2012-07-16   \n",
       "4     [{\"iso_3166_1\": \"US\", \"name\": \"United States o...   2012-03-07   \n",
       "...                                                 ...          ...   \n",
       "4798  [{\"iso_3166_1\": \"MX\", \"name\": \"Mexico\"}, {\"iso...   1992-09-04   \n",
       "4799                                                 []   2011-12-26   \n",
       "4800  [{\"iso_3166_1\": \"US\", \"name\": \"United States o...   2013-10-13   \n",
       "4801  [{\"iso_3166_1\": \"US\", \"name\": \"United States o...   2012-05-03   \n",
       "4802  [{\"iso_3166_1\": \"US\", \"name\": \"United States o...   2005-08-05   \n",
       "\n",
       "         revenue  runtime                                   spoken_languages  \\\n",
       "0     2787965087    162.0  [{\"iso_639_1\": \"en\", \"name\": \"English\"}, {\"iso...   \n",
       "1      961000000    169.0           [{\"iso_639_1\": \"en\", \"name\": \"English\"}]   \n",
       "2      880674609    148.0  [{\"iso_639_1\": \"fr\", \"name\": \"Fran\\u00e7ais\"},...   \n",
       "3     1084939099    165.0           [{\"iso_639_1\": \"en\", \"name\": \"English\"}]   \n",
       "4      284139100    132.0           [{\"iso_639_1\": \"en\", \"name\": \"English\"}]   \n",
       "...          ...      ...                                                ...   \n",
       "4798     2040920     81.0      [{\"iso_639_1\": \"es\", \"name\": \"Espa\\u00f1ol\"}]   \n",
       "4799           0     85.0                                                 []   \n",
       "4800           0    120.0           [{\"iso_639_1\": \"en\", \"name\": \"English\"}]   \n",
       "4801           0     98.0           [{\"iso_639_1\": \"en\", \"name\": \"English\"}]   \n",
       "4802           0     90.0           [{\"iso_639_1\": \"en\", \"name\": \"English\"}]   \n",
       "\n",
       "        status                                            tagline  \\\n",
       "0     Released                        Enter the World of Pandora.   \n",
       "1     Released     At the end of the world, the adventure begins.   \n",
       "2     Released                              A Plan No One Escapes   \n",
       "3     Released                                    The Legend Ends   \n",
       "4     Released               Lost in our world, found in another.   \n",
       "...        ...                                                ...   \n",
       "4798  Released  He didn't come looking for trouble, but troubl...   \n",
       "4799  Released  A newlywed couple's honeymoon is upended by th...   \n",
       "4800  Released                                                NaN   \n",
       "4801  Released                           A New Yorker in Shanghai   \n",
       "4802  Released                                                NaN   \n",
       "\n",
       "                                         title  vote_average  vote_count  \n",
       "0                                       Avatar           7.2       11800  \n",
       "1     Pirates of the Caribbean: At World's End           6.9        4500  \n",
       "2                                      Spectre           6.3        4466  \n",
       "3                        The Dark Knight Rises           7.6        9106  \n",
       "4                                  John Carter           6.1        2124  \n",
       "...                                        ...           ...         ...  \n",
       "4798                               El Mariachi           6.6         238  \n",
       "4799                                 Newlyweds           5.9           5  \n",
       "4800                 Signed, Sealed, Delivered           7.0           6  \n",
       "4801                          Shanghai Calling           5.7           7  \n",
       "4802                         My Date with Drew           6.3          16  \n",
       "\n",
       "[4803 rows x 20 columns]"
      ]
     },
     "execution_count": 2,
     "metadata": {},
     "output_type": "execute_result"
    }
   ],
   "source": [
    "df = pd.read_csv('tmdb_5000_movies TMDL 2024.csv')\n",
    "df"
   ]
  },
  {
   "cell_type": "markdown",
   "id": "1915f1f7",
   "metadata": {},
   "source": [
    "View information about the dataset including datatypes and null values"
   ]
  },
  {
   "cell_type": "code",
   "execution_count": 3,
   "id": "c173d066",
   "metadata": {},
   "outputs": [
    {
     "name": "stdout",
     "output_type": "stream",
     "text": [
      "<class 'pandas.core.frame.DataFrame'>\n",
      "RangeIndex: 4803 entries, 0 to 4802\n",
      "Data columns (total 20 columns):\n",
      " #   Column                Non-Null Count  Dtype  \n",
      "---  ------                --------------  -----  \n",
      " 0   budget                4803 non-null   int64  \n",
      " 1   genres                4803 non-null   object \n",
      " 2   homepage              1712 non-null   object \n",
      " 3   id                    4803 non-null   int64  \n",
      " 4   keywords              4803 non-null   object \n",
      " 5   original_language     4803 non-null   object \n",
      " 6   original_title        4803 non-null   object \n",
      " 7   overview              4800 non-null   object \n",
      " 8   popularity            4803 non-null   float64\n",
      " 9   production_companies  4803 non-null   object \n",
      " 10  production_countries  4803 non-null   object \n",
      " 11  release_date          4802 non-null   object \n",
      " 12  revenue               4803 non-null   int64  \n",
      " 13  runtime               4801 non-null   float64\n",
      " 14  spoken_languages      4803 non-null   object \n",
      " 15  status                4803 non-null   object \n",
      " 16  tagline               3959 non-null   object \n",
      " 17  title                 4803 non-null   object \n",
      " 18  vote_average          4803 non-null   float64\n",
      " 19  vote_count            4803 non-null   int64  \n",
      "dtypes: float64(3), int64(4), object(13)\n",
      "memory usage: 750.6+ KB\n"
     ]
    }
   ],
   "source": [
    "df.info()"
   ]
  },
  {
   "cell_type": "markdown",
   "id": "4e64a24f",
   "metadata": {},
   "source": [
    "**Q.1.1.2** What columns have null values above? How would you be able to estimate the missing values?"
   ]
  },
  {
   "cell_type": "markdown",
   "id": "2660fe51",
   "metadata": {},
   "source": [
    "the: \n",
    "1. homepage     (1712/4803)\n",
    "2. overview     (4800/4803)\n",
    "3. release_date (4802/4803)\n",
    "4. runtime      (4801/4803)\n",
    "5. tagline      (3959/4803)\n",
    "\n",
    "we could try to estimate them using a ML algorithm."
   ]
  },
  {
   "cell_type": "markdown",
   "id": "83863820",
   "metadata": {},
   "source": [
    "### Q1.2\n",
    "For this notebook, we're only interested in a few columns, specifically title, overview and genres. Set df to only contain those columns."
   ]
  },
  {
   "cell_type": "code",
   "execution_count": 4,
   "id": "4e3f0439",
   "metadata": {},
   "outputs": [
    {
     "name": "stdout",
     "output_type": "stream",
     "text": [
      "<class 'pandas.core.frame.DataFrame'>\n",
      "RangeIndex: 4803 entries, 0 to 4802\n",
      "Data columns (total 3 columns):\n",
      " #   Column    Non-Null Count  Dtype \n",
      "---  ------    --------------  ----- \n",
      " 0   title     4803 non-null   object\n",
      " 1   overview  4800 non-null   object\n",
      " 2   genres    4803 non-null   object\n",
      "dtypes: object(3)\n",
      "memory usage: 112.7+ KB\n"
     ]
    }
   ],
   "source": [
    "df = df[['title', 'overview', 'genres']]\n",
    "df.info() # print out df info to verify"
   ]
  },
  {
   "cell_type": "markdown",
   "id": "b596e86b",
   "metadata": {},
   "source": [
    "### Q1.3\n",
    "We see that some movies do not have an overview. Drop them from the table and reset the index (set `drop=True`)."
   ]
  },
  {
   "cell_type": "code",
   "execution_count": 5,
   "id": "a06e4f6a",
   "metadata": {},
   "outputs": [],
   "source": [
    "df = df.dropna() # drop na values\n",
    "df = df.reset_index(drop=True) # reset index"
   ]
  },
  {
   "cell_type": "code",
   "execution_count": 6,
   "id": "43b78bfa",
   "metadata": {},
   "outputs": [
    {
     "name": "stdout",
     "output_type": "stream",
     "text": [
      "<class 'pandas.core.frame.DataFrame'>\n",
      "RangeIndex: 4800 entries, 0 to 4799\n",
      "Data columns (total 3 columns):\n",
      " #   Column    Non-Null Count  Dtype \n",
      "---  ------    --------------  ----- \n",
      " 0   title     4800 non-null   object\n",
      " 1   overview  4800 non-null   object\n",
      " 2   genres    4800 non-null   object\n",
      "dtypes: object(3)\n",
      "memory usage: 112.6+ KB\n"
     ]
    }
   ],
   "source": [
    "df.info()"
   ]
  },
  {
   "cell_type": "markdown",
   "id": "759df3a2",
   "metadata": {},
   "source": [
    "# Q2 One-hot encodings\n",
    "The following code processes the genres (which you see above are list of dictionaries) and encodes them into one-hot labels.\n",
    "\n",
    "Remember, since we cannot do maths on text strings, we must change these words to numbers. Here, we create one-hot encodings for the genres. Assume we have three genres $[G_1, G_2, G_3]$. If a movie $M_1$ is tagged with genre $G_1$, the encoding is $[1,0,0]$. If another movie $M_2$ is tagged with $G2$, the encoding becomes $[0,1,0]$. Other encodings are possible as well, but one-hot encoding quite common and useful for many other tasks. In this case, if a movie is tagged with more than one genre, we'll just take a random one and encode that into a one-hot label.\n",
    "\n",
    "### Q2.1 Processing genres\n",
    "\n",
    "Finish the following code that processes genres into one-hot encodings."
   ]
  },
  {
   "cell_type": "code",
   "execution_count": 7,
   "id": "dba05feb",
   "metadata": {},
   "outputs": [
    {
     "name": "stderr",
     "output_type": "stream",
     "text": [
      "  0%|          | 0/4800 [00:00<?, ?it/s]"
     ]
    },
    {
     "name": "stderr",
     "output_type": "stream",
     "text": [
      "100%|██████████| 4800/4800 [00:00<00:00, 66234.35it/s]\n"
     ]
    }
   ],
   "source": [
    "np.random.seed(0)\n",
    "\n",
    "def process_genre_string(gs):\n",
    "    \"\"\" Processes genres into a single item from a list\"\"\"\n",
    "    gs = eval(gs)\n",
    "    gs = [x['name'] for x in gs]\n",
    "    genre = \"Unknown\"\n",
    "    if gs:\n",
    "        genre = np.random.choice(gs) # choose random entry\n",
    "    return genre\n",
    "\n",
    "# TODO: Fill in\n",
    "def encode_labels(label, unique_labels):\n",
    "    \"\"\" Encodes text labels into a one-hot encoded list\n",
    "        with possibly more than one one-hot per list.\n",
    "        :param label: the label you want to one-hot encode\n",
    "        :unique_labels: the vocabulary\n",
    "    \"\"\"\n",
    "    out = np.zeros(len(unique_labels))\n",
    "    idx = unique_labels.index(label)\n",
    "    out[idx] = 1\n",
    "    return out\n",
    "\n",
    "# save genres\n",
    "processed_genres = []\n",
    "for index, row in df.iterrows():\n",
    "    processed_genres.append(process_genre_string(row['genres']))\n",
    "    #for x in eval(row['genres']):\n",
    "    #    processed_genres.append(x['name'])\n",
    "\n",
    "# sort and remove duplicates to get vocabulary\n",
    "unique_genres = sorted(list(set(processed_genres)))\n",
    "\n",
    "# add to dataframe as new column\n",
    "df[\"proc_genres\"] = processed_genres\n",
    "\n",
    "# one-hot encode genres\n",
    "encoded_labels = []\n",
    "for index, row in tqdm(df.iterrows(), total=len(df)):\n",
    "    encoded_labels.append(encode_labels(row['proc_genres'], unique_genres))\n",
    "\n",
    "df[\"one_hot_genres\"] = encoded_labels"
   ]
  },
  {
   "cell_type": "markdown",
   "id": "d17501a9",
   "metadata": {},
   "source": [
    "Verify that one-hot encodings are indeed as expected"
   ]
  },
  {
   "cell_type": "code",
   "execution_count": 8,
   "id": "3b64854b",
   "metadata": {},
   "outputs": [
    {
     "data": {
      "text/plain": [
       "array([1., 0., 0., 0., 0., 0., 0., 0., 0., 0., 0., 0., 0., 0., 0., 0., 0.,\n",
       "       0., 0., 0., 0.])"
      ]
     },
     "execution_count": 8,
     "metadata": {},
     "output_type": "execute_result"
    }
   ],
   "source": [
    "df[\"one_hot_genres\"][0]"
   ]
  },
  {
   "cell_type": "markdown",
   "id": "b0a83ece",
   "metadata": {},
   "source": [
    "### Q2.2 Processing Overviews\n",
    "Next, we process the overviews. First, we remove all punctuation for the sake of simplicity and change each overview to use only lowercase. Then we need to see how long the overviews are in terms of numbers of words. We can do this with a histogram.\n",
    "\n",
    "**Q2.2.1** Finish the following code"
   ]
  },
  {
   "cell_type": "code",
   "execution_count": 9,
   "id": "bfd51c53",
   "metadata": {},
   "outputs": [
    {
     "data": {
      "image/png": "[encoded data removed]",
      "text/plain": [
       "<Figure size 640x480 with 1 Axes>"
      ]
     },
     "metadata": {},
     "output_type": "display_data"
    }
   ],
   "source": [
    "import re\n",
    "def remove_punctuation(text):\n",
    "    \"\"\" Only retains letters, numbers, underscores and whitespace \"\"\"\n",
    "    pattern = r'[^\\w\\s]'\n",
    "    return re.sub(pattern, '', text)\n",
    "\n",
    "processed_overviews = []\n",
    "\n",
    "# loop over df, remove punctuation, make words lowercase and add it to a new column\n",
    "df[\"proc_overview\"] = df['overview'].apply(lambda x: remove_punctuation(x.lower()))\n",
    "\n",
    "# get the word lengths of each overview and store it in a list \n",
    "overview_lens = []\n",
    "overview_lens = df[\"proc_overview\"].apply(lambda x: len(x.split()))\n",
    "\n",
    "# for the sake of simplicity, add these values as a column to the df\n",
    "df[\"overview_len\"] = overview_lens\n",
    "plt.hist(overview_lens, bins='auto', edgecolor='black')\n",
    "plt.show()"
   ]
  },
  {
   "cell_type": "markdown",
   "id": "58138594",
   "metadata": {},
   "source": [
    "**Q2.2.2** What is the shortest overview? What is the longest? In the next step, we need to decide on a standard length of all overviews -- this means dropping overviews less than some value, and truncating longer ones. What length would you choose to minimize the number of movies dropped and maximize the information (words) stored in the overviews?"
   ]
  },
  {
   "cell_type": "code",
   "execution_count": 10,
   "id": "4b09a54f",
   "metadata": {},
   "outputs": [
    {
     "name": "stdout",
     "output_type": "stream",
     "text": [
      "The shortest overview is 0 words\n",
      "The longest overview is 175 words\n"
     ]
    }
   ],
   "source": [
    "print(f\"The shortest overview is {df['overview_len'].min()} words\")\n",
    "print(f\"The longest overview is {df['overview_len'].max()} words\")"
   ]
  },
  {
   "cell_type": "markdown",
   "id": "3b87f1af",
   "metadata": {},
   "source": [
    "I would say to dropping overviews with less words and truncating words longer than length 15-25 as it allows to form proper sentences yet cuts out too short ones without getting rid without most of the overviews"
   ]
  },
  {
   "cell_type": "markdown",
   "id": "54e6cb90",
   "metadata": {},
   "source": [
    "### Q2.2.3\n",
    "Let's choose overviews of length 15 words. What this means is we need to discard movies that have overviews less than 15 (there are other ways of dealing with it, but this should be fine for now) and truncate the higher ones to the first 15 words."
   ]
  },
  {
   "cell_type": "code",
   "execution_count": 11,
   "id": "70854211",
   "metadata": {},
   "outputs": [
    {
     "data": {
      "text/html": [
       "<div>\n",
       "<style scoped>\n",
       "    .dataframe tbody tr th:only-of-type {\n",
       "        vertical-align: middle;\n",
       "    }\n",
       "\n",
       "    .dataframe tbody tr th {\n",
       "        vertical-align: top;\n",
       "    }\n",
       "\n",
       "    .dataframe thead th {\n",
       "        text-align: right;\n",
       "    }\n",
       "</style>\n",
       "<table border=\"1\" class=\"dataframe\">\n",
       "  <thead>\n",
       "    <tr style=\"text-align: right;\">\n",
       "      <th></th>\n",
       "      <th>title</th>\n",
       "      <th>overview</th>\n",
       "      <th>genres</th>\n",
       "      <th>proc_genres</th>\n",
       "      <th>one_hot_genres</th>\n",
       "      <th>proc_overview</th>\n",
       "      <th>overview_len</th>\n",
       "    </tr>\n",
       "  </thead>\n",
       "  <tbody>\n",
       "    <tr>\n",
       "      <th>0</th>\n",
       "      <td>Avatar</td>\n",
       "      <td>In the 22nd century, a paraplegic Marine is di...</td>\n",
       "      <td>[{\"id\": 28, \"name\": \"Action\"}, {\"id\": 12, \"nam...</td>\n",
       "      <td>Action</td>\n",
       "      <td>[1.0, 0.0, 0.0, 0.0, 0.0, 0.0, 0.0, 0.0, 0.0, ...</td>\n",
       "      <td>[in, the, 22nd, century, a, paraplegic, marine...</td>\n",
       "      <td>28</td>\n",
       "    </tr>\n",
       "    <tr>\n",
       "      <th>1</th>\n",
       "      <td>Pirates of the Caribbean: At World's End</td>\n",
       "      <td>Captain Barbossa, long believed to be dead, ha...</td>\n",
       "      <td>[{\"id\": 12, \"name\": \"Adventure\"}, {\"id\": 14, \"...</td>\n",
       "      <td>Fantasy</td>\n",
       "      <td>[0.0, 0.0, 0.0, 0.0, 0.0, 0.0, 0.0, 0.0, 1.0, ...</td>\n",
       "      <td>[captain, barbossa, long, believed, to, be, de...</td>\n",
       "      <td>34</td>\n",
       "    </tr>\n",
       "    <tr>\n",
       "      <th>2</th>\n",
       "      <td>Spectre</td>\n",
       "      <td>A cryptic message from Bond’s past sends him o...</td>\n",
       "      <td>[{\"id\": 28, \"name\": \"Action\"}, {\"id\": 12, \"nam...</td>\n",
       "      <td>Action</td>\n",
       "      <td>[1.0, 0.0, 0.0, 0.0, 0.0, 0.0, 0.0, 0.0, 0.0, ...</td>\n",
       "      <td>[a, cryptic, message, from, bonds, past, sends...</td>\n",
       "      <td>41</td>\n",
       "    </tr>\n",
       "    <tr>\n",
       "      <th>3</th>\n",
       "      <td>The Dark Knight Rises</td>\n",
       "      <td>Following the death of District Attorney Harve...</td>\n",
       "      <td>[{\"id\": 28, \"name\": \"Action\"}, {\"id\": 80, \"nam...</td>\n",
       "      <td>Thriller</td>\n",
       "      <td>[0.0, 0.0, 0.0, 0.0, 0.0, 0.0, 0.0, 0.0, 0.0, ...</td>\n",
       "      <td>[following, the, death, of, district, attorney...</td>\n",
       "      <td>65</td>\n",
       "    </tr>\n",
       "    <tr>\n",
       "      <th>4</th>\n",
       "      <td>John Carter</td>\n",
       "      <td>John Carter is a war-weary, former military ca...</td>\n",
       "      <td>[{\"id\": 28, \"name\": \"Action\"}, {\"id\": 12, \"nam...</td>\n",
       "      <td>Adventure</td>\n",
       "      <td>[0.0, 1.0, 0.0, 0.0, 0.0, 0.0, 0.0, 0.0, 0.0, ...</td>\n",
       "      <td>[john, carter, is, a, warweary, former, milita...</td>\n",
       "      <td>55</td>\n",
       "    </tr>\n",
       "    <tr>\n",
       "      <th>...</th>\n",
       "      <td>...</td>\n",
       "      <td>...</td>\n",
       "      <td>...</td>\n",
       "      <td>...</td>\n",
       "      <td>...</td>\n",
       "      <td>...</td>\n",
       "      <td>...</td>\n",
       "    </tr>\n",
       "    <tr>\n",
       "      <th>4794</th>\n",
       "      <td>Cavite</td>\n",
       "      <td>Adam, a security guard, travels from Californi...</td>\n",
       "      <td>[{\"id\": 10769, \"name\": \"Foreign\"}, {\"id\": 53, ...</td>\n",
       "      <td>Thriller</td>\n",
       "      <td>[0.0, 0.0, 0.0, 0.0, 0.0, 0.0, 0.0, 0.0, 0.0, ...</td>\n",
       "      <td>[adam, a, security, guard, travels, from, cali...</td>\n",
       "      <td>115</td>\n",
       "    </tr>\n",
       "    <tr>\n",
       "      <th>4795</th>\n",
       "      <td>El Mariachi</td>\n",
       "      <td>El Mariachi just wants to play his guitar and ...</td>\n",
       "      <td>[{\"id\": 28, \"name\": \"Action\"}, {\"id\": 80, \"nam...</td>\n",
       "      <td>Crime</td>\n",
       "      <td>[0.0, 0.0, 0.0, 0.0, 1.0, 0.0, 0.0, 0.0, 0.0, ...</td>\n",
       "      <td>[el, mariachi, just, wants, to, play, his, gui...</td>\n",
       "      <td>62</td>\n",
       "    </tr>\n",
       "    <tr>\n",
       "      <th>4797</th>\n",
       "      <td>Signed, Sealed, Delivered</td>\n",
       "      <td>\"Signed, Sealed, Delivered\" introduces a dedic...</td>\n",
       "      <td>[{\"id\": 35, \"name\": \"Comedy\"}, {\"id\": 18, \"nam...</td>\n",
       "      <td>TV Movie</td>\n",
       "      <td>[0.0, 0.0, 0.0, 0.0, 0.0, 0.0, 0.0, 0.0, 0.0, ...</td>\n",
       "      <td>[signed, sealed, delivered, introduces, a, ded...</td>\n",
       "      <td>73</td>\n",
       "    </tr>\n",
       "    <tr>\n",
       "      <th>4798</th>\n",
       "      <td>Shanghai Calling</td>\n",
       "      <td>When ambitious New York attorney Sam is sent t...</td>\n",
       "      <td>[]</td>\n",
       "      <td>Unknown</td>\n",
       "      <td>[0.0, 0.0, 0.0, 0.0, 0.0, 0.0, 0.0, 0.0, 0.0, ...</td>\n",
       "      <td>[when, ambitious, new, york, attorney, sam, is...</td>\n",
       "      <td>65</td>\n",
       "    </tr>\n",
       "    <tr>\n",
       "      <th>4799</th>\n",
       "      <td>My Date with Drew</td>\n",
       "      <td>Ever since the second grade when he first saw ...</td>\n",
       "      <td>[{\"id\": 99, \"name\": \"Documentary\"}]</td>\n",
       "      <td>Documentary</td>\n",
       "      <td>[0.0, 0.0, 0.0, 0.0, 0.0, 1.0, 0.0, 0.0, 0.0, ...</td>\n",
       "      <td>[ever, since, the, second, grade, when, he, fi...</td>\n",
       "      <td>62</td>\n",
       "    </tr>\n",
       "  </tbody>\n",
       "</table>\n",
       "<p>4707 rows × 7 columns</p>\n",
       "</div>"
      ],
      "text/plain": [
       "                                         title  \\\n",
       "0                                       Avatar   \n",
       "1     Pirates of the Caribbean: At World's End   \n",
       "2                                      Spectre   \n",
       "3                        The Dark Knight Rises   \n",
       "4                                  John Carter   \n",
       "...                                        ...   \n",
       "4794                                    Cavite   \n",
       "4795                               El Mariachi   \n",
       "4797                 Signed, Sealed, Delivered   \n",
       "4798                          Shanghai Calling   \n",
       "4799                         My Date with Drew   \n",
       "\n",
       "                                               overview  \\\n",
       "0     In the 22nd century, a paraplegic Marine is di...   \n",
       "1     Captain Barbossa, long believed to be dead, ha...   \n",
       "2     A cryptic message from Bond’s past sends him o...   \n",
       "3     Following the death of District Attorney Harve...   \n",
       "4     John Carter is a war-weary, former military ca...   \n",
       "...                                                 ...   \n",
       "4794  Adam, a security guard, travels from Californi...   \n",
       "4795  El Mariachi just wants to play his guitar and ...   \n",
       "4797  \"Signed, Sealed, Delivered\" introduces a dedic...   \n",
       "4798  When ambitious New York attorney Sam is sent t...   \n",
       "4799  Ever since the second grade when he first saw ...   \n",
       "\n",
       "                                                 genres  proc_genres  \\\n",
       "0     [{\"id\": 28, \"name\": \"Action\"}, {\"id\": 12, \"nam...       Action   \n",
       "1     [{\"id\": 12, \"name\": \"Adventure\"}, {\"id\": 14, \"...      Fantasy   \n",
       "2     [{\"id\": 28, \"name\": \"Action\"}, {\"id\": 12, \"nam...       Action   \n",
       "3     [{\"id\": 28, \"name\": \"Action\"}, {\"id\": 80, \"nam...     Thriller   \n",
       "4     [{\"id\": 28, \"name\": \"Action\"}, {\"id\": 12, \"nam...    Adventure   \n",
       "...                                                 ...          ...   \n",
       "4794  [{\"id\": 10769, \"name\": \"Foreign\"}, {\"id\": 53, ...     Thriller   \n",
       "4795  [{\"id\": 28, \"name\": \"Action\"}, {\"id\": 80, \"nam...        Crime   \n",
       "4797  [{\"id\": 35, \"name\": \"Comedy\"}, {\"id\": 18, \"nam...     TV Movie   \n",
       "4798                                                 []      Unknown   \n",
       "4799                [{\"id\": 99, \"name\": \"Documentary\"}]  Documentary   \n",
       "\n",
       "                                         one_hot_genres  \\\n",
       "0     [1.0, 0.0, 0.0, 0.0, 0.0, 0.0, 0.0, 0.0, 0.0, ...   \n",
       "1     [0.0, 0.0, 0.0, 0.0, 0.0, 0.0, 0.0, 0.0, 1.0, ...   \n",
       "2     [1.0, 0.0, 0.0, 0.0, 0.0, 0.0, 0.0, 0.0, 0.0, ...   \n",
       "3     [0.0, 0.0, 0.0, 0.0, 0.0, 0.0, 0.0, 0.0, 0.0, ...   \n",
       "4     [0.0, 1.0, 0.0, 0.0, 0.0, 0.0, 0.0, 0.0, 0.0, ...   \n",
       "...                                                 ...   \n",
       "4794  [0.0, 0.0, 0.0, 0.0, 0.0, 0.0, 0.0, 0.0, 0.0, ...   \n",
       "4795  [0.0, 0.0, 0.0, 0.0, 1.0, 0.0, 0.0, 0.0, 0.0, ...   \n",
       "4797  [0.0, 0.0, 0.0, 0.0, 0.0, 0.0, 0.0, 0.0, 0.0, ...   \n",
       "4798  [0.0, 0.0, 0.0, 0.0, 0.0, 0.0, 0.0, 0.0, 0.0, ...   \n",
       "4799  [0.0, 0.0, 0.0, 0.0, 0.0, 1.0, 0.0, 0.0, 0.0, ...   \n",
       "\n",
       "                                          proc_overview  overview_len  \n",
       "0     [in, the, 22nd, century, a, paraplegic, marine...            28  \n",
       "1     [captain, barbossa, long, believed, to, be, de...            34  \n",
       "2     [a, cryptic, message, from, bonds, past, sends...            41  \n",
       "3     [following, the, death, of, district, attorney...            65  \n",
       "4     [john, carter, is, a, warweary, former, milita...            55  \n",
       "...                                                 ...           ...  \n",
       "4794  [adam, a, security, guard, travels, from, cali...           115  \n",
       "4795  [el, mariachi, just, wants, to, play, his, gui...            62  \n",
       "4797  [signed, sealed, delivered, introduces, a, ded...            73  \n",
       "4798  [when, ambitious, new, york, attorney, sam, is...            65  \n",
       "4799  [ever, since, the, second, grade, when, he, fi...            62  \n",
       "\n",
       "[4707 rows x 7 columns]"
      ]
     },
     "execution_count": 11,
     "metadata": {},
     "output_type": "execute_result"
    }
   ],
   "source": [
    "token_len = 15 # number of words\n",
    "# only select rows where overview len is more than or equal to token_len\n",
    "df = df[df['overview_len'] >= token_len]\n",
    "\n",
    "# split each proc_overview into a list of words, select the first token_len words, \n",
    "# and add the list of words back into df[\"proc_overview\"]\n",
    "df[\"proc_overview\"] = df[\"proc_overview\"].apply(lambda x: x.split()[:token_len])\n",
    "\n",
    "# print to verify\n",
    "df"
   ]
  },
  {
   "cell_type": "markdown",
   "id": "26e092dd",
   "metadata": {},
   "source": [
    "### Q2.2.3 Finding the vocabulary length\n",
    "\n",
    "In order to one-hot encode words, we need to find how many words there are in total, just like in the case of genres. Get all the words, remove duplicates, and sort. Find and print the length of your vocabulary."
   ]
  },
  {
   "cell_type": "code",
   "execution_count": 12,
   "id": "a71a750b",
   "metadata": {},
   "outputs": [
    {
     "name": "stdout",
     "output_type": "stream",
     "text": [
      "12493\n"
     ]
    }
   ],
   "source": [
    "# hint: store all words for all movies in a set, change it to a list and sort\n",
    "unique_words = sorted(list(set().union(*df[\"proc_overview\"])))\n",
    "vocab_len = len(unique_words)\n",
    "print(vocab_len)"
   ]
  },
  {
   "cell_type": "markdown",
   "id": "f276b825",
   "metadata": {},
   "source": [
    "### Q2.2.4 Encoding the labels\n",
    "\n",
    "In the case of genres, we one-hot encoded the outputs by taking a single random genre. However, an alternative method is to add up the one-hot encodings to form some kind of histogram. For example, if we have an overview \"a brown dog\", and our vocab is \\[a brown, big, cabbage, dog, goat, cow, turkey\\], the one-hot vector would be \\[1,1,0,0,1,0,0,0\\]. If our overview is \"a big brown dog\", the one-hot vector would be \\[1,1,1,0,1,0,0,0\\]. If our overview is \"a big big brown dog\", the one-hot vector would be \\[1,1,2,0,1,0,0,0\\]. You can use the `encode_labels` function that you defined earlier."
   ]
  },
  {
   "cell_type": "code",
   "execution_count": 13,
   "id": "d212192f",
   "metadata": {},
   "outputs": [
    {
     "name": "stderr",
     "output_type": "stream",
     "text": [
      "100%|██████████| 4707/4707 [00:04<00:00, 1136.24it/s]\n"
     ]
    },
    {
     "data": {
      "text/plain": [
       "0       [0.0, 0.0, 0.0, 0.0, 0.0, 0.0, 0.0, 0.0, 0.0, ...\n",
       "1       [0.0, 0.0, 0.0, 0.0, 0.0, 0.0, 0.0, 0.0, 0.0, ...\n",
       "2       [0.0, 0.0, 0.0, 0.0, 0.0, 0.0, 0.0, 0.0, 0.0, ...\n",
       "3       [0.0, 0.0, 0.0, 0.0, 0.0, 0.0, 0.0, 0.0, 0.0, ...\n",
       "4       [0.0, 0.0, 0.0, 0.0, 0.0, 0.0, 0.0, 0.0, 0.0, ...\n",
       "                              ...                        \n",
       "4794    [0.0, 0.0, 0.0, 0.0, 0.0, 0.0, 0.0, 0.0, 0.0, ...\n",
       "4795    [0.0, 0.0, 0.0, 0.0, 0.0, 0.0, 0.0, 0.0, 0.0, ...\n",
       "4797    [0.0, 0.0, 0.0, 0.0, 0.0, 0.0, 0.0, 0.0, 0.0, ...\n",
       "4798    [0.0, 0.0, 0.0, 0.0, 0.0, 0.0, 0.0, 0.0, 0.0, ...\n",
       "4799    [0.0, 0.0, 0.0, 0.0, 0.0, 0.0, 0.0, 0.0, 0.0, ...\n",
       "Name: one_hot_overview, Length: 4707, dtype: object"
      ]
     },
     "execution_count": 13,
     "metadata": {},
     "output_type": "execute_result"
    }
   ],
   "source": [
    "# this code is just a hint, if you want you can do it as you please\n",
    "# as long as the output remains the same\n",
    "encoded_labels = []\n",
    "for index, row in tqdm(df.iterrows(), total=len(df)):\n",
    "    sentence_encode = [] # set of encodings for this overview\n",
    "    for word in row[\"proc_overview\"]:\n",
    "        sentence_encode.append(encode_labels(word, unique_words)) # get encoding for this word\n",
    "    sentence_encode = np.sum(sentence_encode, axis=0) # sum over axis=1\n",
    "    encoded_labels.append(sentence_encode)\n",
    "\n",
    "df[\"one_hot_overview\"] = encoded_labels\n",
    "df['one_hot_overview'] # print to verify"
   ]
  },
  {
   "cell_type": "markdown",
   "id": "7c62e127",
   "metadata": {},
   "source": [
    "**Q2.2.5** Each vector is a vector of floating point (64-bit) numbers. Assuming each float takes up exactly 16-bytes, how many bytes does this take to store (theoretically)?"
   ]
  },
  {
   "cell_type": "code",
   "execution_count": 14,
   "id": "918a904a",
   "metadata": {},
   "outputs": [
    {
     "name": "stdout",
     "output_type": "stream",
     "text": [
      "Number of bytes: 959462400\n"
     ]
    }
   ],
   "source": [
    "print(f\"Number of bytes: {4800 * 12493 * 16}\")"
   ]
  },
  {
   "cell_type": "markdown",
   "id": "1f3b3700",
   "metadata": {},
   "source": [
    "# Q3 Principal Component Analysis\n",
    "\n",
    "**Q3.1** Using the overview encoded into one-hot encodings, perform PCA and plot this into a 2-D image as a scatter plot."
   ]
  },
  {
   "cell_type": "code",
   "execution_count": 49,
   "id": "832f2be7",
   "metadata": {},
   "outputs": [],
   "source": [
    "# import PCA decomposition class from sklearn\n",
    "from sklearn.decomposition import PCA\n",
    "\n",
    "# we did exactly this in the lecture notebook\n",
    "pca = PCA()  # Set the desired number of components\n",
    "# Perform covariance matrix computation and eigendecomposition,\n",
    "# and project data to lower dimension\n",
    "pca_decomp = pca.fit_transform(np.array(encoded_labels))"
   ]
  },
  {
   "cell_type": "code",
   "execution_count": 50,
   "id": "0fc0f681",
   "metadata": {},
   "outputs": [
    {
     "name": "stderr",
     "output_type": "stream",
     "text": [
      "/var/folders/4g/c51vpg2j0nj65hpt4ffnh7xm0000gn/T/ipykernel_87494/49733869.py:2: MatplotlibDeprecationWarning: The get_cmap function was deprecated in Matplotlib 3.7 and will be removed two minor releases later. Use ``matplotlib.colormaps[name]`` or ``matplotlib.colormaps.get_cmap(obj)`` instead.\n",
      "  color_map = plt.cm.get_cmap('hsv', len(unique_genres))  # hsv is a type of color map, you can choose others\n"
     ]
    },
    {
     "data": {
      "image/png": "[encoded data removed]",
      "text/plain": [
       "<Figure size 1000x600 with 2 Axes>"
      ]
     },
     "metadata": {},
     "output_type": "display_data"
    }
   ],
   "source": [
    "color_map = plt.cm.get_cmap('hsv', len(unique_genres))  # hsv is a type of color map, you can choose others\n",
    "genre_to_color = {genre: color_map(i) for i, genre in enumerate(unique_genres)}\n",
    "\n",
    "# Map each movie's genre to its corresponding color\n",
    "colors = df['proc_genres'].map(genre_to_color)\n",
    "\n",
    "plt.figure(figsize=(10, 6))\n",
    "plt.scatter(pca_decomp[:, 0], pca_decomp[:, 1], c=colors, alpha=0.5, s=1)\n",
    "plt.colorbar()\n",
    "plt.title('PCA of Movie Overviews with Genres')\n",
    "plt.xlabel('Principal Component 1')\n",
    "plt.ylabel('Principal Component 2')\n",
    "plt.show()"
   ]
  },
  {
   "cell_type": "markdown",
   "id": "a63054b6",
   "metadata": {},
   "source": [
    "**Q3.2** Do you see any interpretable structure in the above plot (\"interpretable\" $\\rightarrow$ the patterns are explainable)."
   ]
  },
  {
   "cell_type": "markdown",
   "id": "a9409e7b",
   "metadata": {},
   "source": [
    "yeah the points clustered together have similar vocabulary and are likely assigned to similar genres, although this latter is still hard to differentiate"
   ]
  },
  {
   "cell_type": "markdown",
   "id": "4482c5e5",
   "metadata": {},
   "source": [
    "**Q3.3** Quantify how much variance information a 2D PCA projection loses for this dataset."
   ]
  },
  {
   "cell_type": "code",
   "execution_count": 43,
   "id": "16941a9e",
   "metadata": {},
   "outputs": [
    {
     "name": "stdout",
     "output_type": "stream",
     "text": [
      "Variance information lost: 0.8871154913246552\n"
     ]
    }
   ],
   "source": [
    "print(f\"Variance information lost: {sum(pca.explained_variance_ratio_) - sum(pca.explained_variance_ratio_[:2])}\")"
   ]
  },
  {
   "cell_type": "markdown",
   "id": "7da99ba5",
   "metadata": {},
   "source": [
    "**Q3.4** Plot a line graph where the y-axis is cumulative explained variance ratio and the x-axis is the number of PCA components."
   ]
  },
  {
   "cell_type": "code",
   "execution_count": 78,
   "id": "e0cac8ff",
   "metadata": {
    "scrolled": false
   },
   "outputs": [
    {
     "data": {
      "image/png": "[encoded data removed]",
      "text/plain": [
       "<Figure size 640x480 with 1 Axes>"
      ]
     },
     "metadata": {},
     "output_type": "display_data"
    }
   ],
   "source": [
    "# Pick n according to Kaisers rule\n",
    "n_kaisers_rule = sum(pca.explained_variance_ratio_ >= 1/len(pca.explained_variance_ratio_))\n",
    "\n",
    "plt.plot(pca.explained_variance_ratio_[:n_kaisers_rule].cumsum())\n",
    "plt.xlabel('Number of Principal Components')\n",
    "plt.ylabel('Percentage of explained variance')\n",
    "plt.show()"
   ]
  },
  {
   "cell_type": "markdown",
   "id": "8b36c9b2",
   "metadata": {},
   "source": [
    "**Q3.5** How many principal components do you need in order to explain 80% of the total variance in the data?\n",
    "\n",
    "Note: don't just estimate it by eye, write some code to compute it for you."
   ]
  },
  {
   "cell_type": "code",
   "execution_count": 80,
   "id": "95c44b2d",
   "metadata": {},
   "outputs": [
    {
     "name": "stdout",
     "output_type": "stream",
     "text": [
      "The required number of principal components: 1225\n"
     ]
    }
   ],
   "source": [
    "n_pca_80percent = np.sum(pca.explained_variance_ratio_.cumsum() <= 0.8)\n",
    "print(f'The required number of principal components: {n_pca_80percent}')"
   ]
  },
  {
   "cell_type": "markdown",
   "id": "ee3b5c33",
   "metadata": {},
   "source": [
    "**Q3.6** Using the number of dimensions you found in Q3.5, fit and transform your overview encodings using PCA and add it to a new column called `overview_pca` in the dataframe."
   ]
  },
  {
   "cell_type": "code",
   "execution_count": 84,
   "id": "8a6eb40b",
   "metadata": {},
   "outputs": [],
   "source": [
    "n_dims = n_pca_80percent\n",
    "pca = PCA(n_pca_80percent)\n",
    "labels_pca = pca.fit_transform(np.array(encoded_labels)).tolist()\n",
    "df[\"overview_pca\"] = labels_pca"
   ]
  },
  {
   "cell_type": "markdown",
   "id": "309d3256",
   "metadata": {},
   "source": [
    "# Q4 K-Means Clustering\n",
    "\n",
    "**Q4.1** Cluster the movies based on the features that were extracted via PCA in the last step. Set $K=20$. Add the predicted cluster into the dataframe as a new column called `cluster_kmeans`. Print out the elements of cluster number 0 from the dataframe."
   ]
  },
  {
   "cell_type": "code",
   "execution_count": 94,
   "id": "f5f5781e",
   "metadata": {},
   "outputs": [
    {
     "data": {
      "text/plain": [
       "6                                   Tangled\n",
       "29                                  Skyfall\n",
       "31                               Iron Man 3\n",
       "33                    X-Men: The Last Stand\n",
       "35      Transformers: Revenge of the Fallen\n",
       "                       ...                 \n",
       "4560                      The Toxic Avenger\n",
       "4587                                Show Me\n",
       "4601                  It Happened One Night\n",
       "4706              A Charlie Brown Christmas\n",
       "4799                      My Date with Drew\n",
       "Name: title, Length: 145, dtype: object"
      ]
     },
     "execution_count": 94,
     "metadata": {},
     "output_type": "execute_result"
    }
   ],
   "source": [
    "# import KMeans class\n",
    "from sklearn.cluster import KMeans\n",
    "\n",
    "# Perform K-means clustering\n",
    "kmeans = KMeans(n_clusters=20)\n",
    "# fit model\n",
    "kmeans = kmeans.fit(labels_pca)\n",
    "\n",
    "y_preds = kmeans.predict(labels_pca) # get predictions\n",
    "df[\"cluster_kmeans\"] = y_preds # set predictions\n",
    "\n",
    "# print out elements of cluster 0\n",
    "df['title'][df['cluster_kmeans'] == 0]"
   ]
  },
  {
   "cell_type": "markdown",
   "id": "34334c6c",
   "metadata": {},
   "source": [
    "**Q4.2** Does this clustering seem alright to you (based on your movie watching history)? Are there movies that go well together and movies that don't?"
   ]
  },
  {
   "cell_type": "markdown",
   "id": "9f1d40cc",
   "metadata": {},
   "source": [
    "I dont think A Charlie Brown Christmas, My Date with Drew, and Iron man dont particularly go together. "
   ]
  },
  {
   "cell_type": "markdown",
   "id": "0407f9e4",
   "metadata": {},
   "source": [
    "**Q4.3** Now, we'll figure out whether using the elbow method is right for this dataset. Plot a loss (using `kmeans.inertia_`) versus cluster size plot. Is there an elbow that you see clearly? What cluster size would you choose?"
   ]
  },
  {
   "cell_type": "code",
   "execution_count": 104,
   "id": "cb3a37ee",
   "metadata": {},
   "outputs": [
    {
     "data": {
      "image/png": "[encoded data removed]",
      "text/plain": [
       "<Figure size 640x480 with 1 Axes>"
      ]
     },
     "metadata": {},
     "output_type": "display_data"
    }
   ],
   "source": [
    "# Perform K-means clustering for different values of K\n",
    "wcss = []\n",
    "k_values = range(1, 50)\n",
    "for k in k_values:\n",
    "    kmeans = KMeans(n_clusters=k)\n",
    "    kmeans.fit(labels_pca)\n",
    "    wcss.append(kmeans.inertia_)\n",
    "    \n",
    "# Plot the elbow curve\n",
    "plt.plot(k_values, wcss, marker='o')\n",
    "plt.xlabel('Number of Clusters (K)')\n",
    "plt.ylabel('Within-Cluster Sum of Squares (WCSS)')\n",
    "plt.title('Elbow Method')\n",
    "plt.show()"
   ]
  },
  {
   "cell_type": "markdown",
   "id": "fa1834c2",
   "metadata": {},
   "source": [
    "I dont particularly see a strong elbow, but maybe at around 5"
   ]
  },
  {
   "cell_type": "markdown",
   "id": "3e89e224",
   "metadata": {},
   "source": [
    "# Q5 Gaussian Mixture Models\n",
    "\n",
    "**Q5.1** As with the K-means above, cluster the movies based on the features that were extracted via PCA in a previous step. Set $K=20$. Add the predicted cluster into the dataframe as a new column called `cluster_gmm`. Print out the elements of a single cluster of your choice from the dataframe."
   ]
  },
  {
   "cell_type": "code",
   "execution_count": 106,
   "id": "86735028",
   "metadata": {},
   "outputs": [],
   "source": [
    "from sklearn.mixture import GaussianMixture\n",
    "\n",
    "gmm = GaussianMixture(20)\n",
    "gmm.fit(labels_pca)\n",
    "df['cluster_gmm'] = gmm.predict(labels_pca)"
   ]
  },
  {
   "cell_type": "markdown",
   "id": "95ed02d9",
   "metadata": {},
   "source": [
    "**Q4.2** Does this clustering seem alright to you (based on your movie watching history)? Are there movies that go well together and movies that don't? How does this compare to K-Means Clustering?"
   ]
  },
  {
   "cell_type": "code",
   "execution_count": 109,
   "id": "21961e7f",
   "metadata": {},
   "outputs": [
    {
     "data": {
      "text/plain": [
       "50                    Prince of Persia: The Sands of Time\n",
       "87                                           Tomorrowland\n",
       "97                                          Shin Godzilla\n",
       "118                                           Ratatouille\n",
       "199     Pirates of the Caribbean: The Curse of the Bla...\n",
       "                              ...                        \n",
       "4720                                          The Gallows\n",
       "4725                         The Lost Skeleton of Cadavra\n",
       "4738                                           Queen Crab\n",
       "4759                                    George Washington\n",
       "4767                                  Mutual Appreciation\n",
       "Name: title, Length: 298, dtype: object"
      ]
     },
     "execution_count": 109,
     "metadata": {},
     "output_type": "execute_result"
    }
   ],
   "source": [
    "df['title'][df['cluster_gmm'] == 0]"
   ]
  },
  {
   "cell_type": "markdown",
   "id": "23936f46",
   "metadata": {},
   "source": [
    "this seems more similar as its more animation/fantasy "
   ]
  },
  {
   "cell_type": "markdown",
   "id": "3b0064a1",
   "metadata": {},
   "source": [
    "**Q5.3** Let's check out the size of the clusters. Create a double bar plot (**as you did in the last assignment**) showing the different sizes of the clusters.\n",
    "\n",
    "*Hint: you may want to consider `df.value_counts()` if you're unfamiliar.*"
   ]
  },
  {
   "cell_type": "code",
   "execution_count": 120,
   "id": "e775ad4f",
   "metadata": {},
   "outputs": [
    {
     "data": {
      "text/plain": [
       "Text(0.5, 1.0, 'Cluster Sizes')"
      ]
     },
     "execution_count": 120,
     "metadata": {},
     "output_type": "execute_result"
    },
    {
     "data": {
      "image/png": "[encoded data removed]",
      "text/plain": [
       "<Figure size 640x480 with 1 Axes>"
      ]
     },
     "metadata": {},
     "output_type": "display_data"
    }
   ],
   "source": [
    "# Create an array for the x-axis positions\n",
    "# Plotting the bars\n",
    "plt.bar(np.arange(20), df['cluster_gmm'].value_counts())\n",
    "# Add labels, title, and legend\n",
    "plt.xlabel('Cluster')\n",
    "plt.ylabel('Size')\n",
    "plt.title('Cluster Sizes')"
   ]
  },
  {
   "cell_type": "markdown",
   "id": "cfc124da",
   "metadata": {},
   "source": [
    "**Q5.4** Do you see a significant difference in the sizes of the clusters? Which is more uniform? Any thought on why?"
   ]
  },
  {
   "cell_type": "markdown",
   "id": "9f538519",
   "metadata": {},
   "source": [
    "the first ones are a bit larger, there are some that are similar in size if that is what you mean, approximately from 9 to 13"
   ]
  },
  {
   "cell_type": "markdown",
   "id": "aa60615d",
   "metadata": {},
   "source": [
    "# Q6: A very simple recommender system\n",
    "\n",
    "One useful thing that clustering is often used for (though at a much greater complexity) is in **recommender systems**. These are systems with users and items (movies, files, documents, etc.), where new items are shown to the user based on what they've previously interacted with, and possibly also on the behaviour of other users.\n",
    "\n",
    "**Q6.1** Assume your dentist has just watched the movie Avatar and asks you for a recommendation. Lucky for you, you just finished this assignment. Using the cluster indices of the movie Avatar for both the K-means and GMM methods, print out suggestions for new movies."
   ]
  },
  {
   "cell_type": "code",
   "execution_count": 174,
   "id": "86a74f68",
   "metadata": {},
   "outputs": [
    {
     "data": {
      "text/plain": [
       "0                             Avatar\n",
       "1405                     The Pianist\n",
       "1980    I Don't Know How She Does It\n",
       "Name: title, dtype: object"
      ]
     },
     "execution_count": 174,
     "metadata": {},
     "output_type": "execute_result"
    }
   ],
   "source": [
    "prev_watch = \"Avatar\"\n",
    "\n",
    "cluster_kmeans = df[df['title'] == prev_watch]['cluster_kmeans'].iloc[0]# find what cluster index Avatar falls into for k-means\n",
    "cluster_gmm = df[df['title'] == prev_watch]['cluster_gmm'].iloc[0]# find what cluster index Avatar falls into for gmm\n",
    "\n",
    "# print out similar movies\n",
    "df[(df['cluster_kmeans'] == cluster_kmeans) & (df['cluster_gmm'] == cluster_gmm)]['title']"
   ]
  },
  {
   "cell_type": "markdown",
   "id": "4ecec1ff",
   "metadata": {},
   "source": [
    "**Q6.2** Are any of the two recommender systems any good? Would you use them if your real dentist asks for a movie suggestion?"
   ]
  },
  {
   "cell_type": "markdown",
   "id": "aae96b8a",
   "metadata": {},
   "source": [
    "haha well not really good, I mean I know the Pianist is a highly rated movie. however I doubt that they fall into the same category"
   ]
  },
  {
   "cell_type": "markdown",
   "id": "92b84753",
   "metadata": {},
   "source": [
    "**Q6.3** How would you try making the recommender systems better?"
   ]
  },
  {
   "cell_type": "markdown",
   "id": "40d3f6dd",
   "metadata": {},
   "source": [
    "maybe perform the analysis on other types of information about the movie such as genre etc instead of the words used in the overview"
   ]
  },
  {
   "cell_type": "markdown",
   "id": "7df2d34a",
   "metadata": {},
   "source": [
    "**Q6.4** Say your dentist likes the movies you suggested and has watched a few more since you met him last. How would you incorporate this fact (recommendation based on multiple movies) into your suggestions?"
   ]
  },
  {
   "cell_type": "markdown",
   "id": "b3549de4",
   "metadata": {},
   "source": [
    "use an union of the sets of movies that every clustering system suggests to create recommendations for many movies"
   ]
  },
  {
   "cell_type": "markdown",
   "id": "f20b74ce",
   "metadata": {},
   "source": [
    "**Q6.5** An alternative method for recommendations is to use your encoded movie-feature vectors (in this case your overview+PCA vector) in order to find out what movie may be most similar to the current one. In the case of K-Means and GMMs, \"similarity\" referred to Euclidean distance. However, in this exercise, we will use *cosine similarity*, which is another very common similarity measure, and is related to the angle between two vectors. It is defined as:\n",
    "\n",
    "$$sim(v_1, v_2)=\\frac{v_1\\cdot v_2}{||v_1||\\cdot||v_2||}$$\n",
    "\n",
    "Where $v_1$ and $v_2$ are vectors and the operator $||\\cdot||$ is the norm of the vector. The function ranges from $[-1,1]$ (where 1 means that the vectors point in the same direction).\n",
    "\n",
    "Define an appropriate function `cosine_sim`. Add a column called `cos_sim_to_avatar` in the df and print out the head of the df, sorted by the similarity. What movies would you recommend now? Is this better than the clustering methods?"
   ]
  },
  {
   "cell_type": "code",
   "execution_count": 199,
   "id": "cedf60f3",
   "metadata": {},
   "outputs": [
    {
     "data": {
      "text/html": [
       "<div>\n",
       "<style scoped>\n",
       "    .dataframe tbody tr th:only-of-type {\n",
       "        vertical-align: middle;\n",
       "    }\n",
       "\n",
       "    .dataframe tbody tr th {\n",
       "        vertical-align: top;\n",
       "    }\n",
       "\n",
       "    .dataframe thead th {\n",
       "        text-align: right;\n",
       "    }\n",
       "</style>\n",
       "<table border=\"1\" class=\"dataframe\">\n",
       "  <thead>\n",
       "    <tr style=\"text-align: right;\">\n",
       "      <th></th>\n",
       "      <th>title</th>\n",
       "      <th>overview</th>\n",
       "      <th>genres</th>\n",
       "      <th>proc_genres</th>\n",
       "      <th>one_hot_genres</th>\n",
       "      <th>proc_overview</th>\n",
       "      <th>overview_len</th>\n",
       "      <th>one_hot_overview</th>\n",
       "      <th>overview_pca</th>\n",
       "      <th>cluster_kmeans</th>\n",
       "      <th>cluster_gmm</th>\n",
       "      <th>cos_sim_to_avatar</th>\n",
       "    </tr>\n",
       "  </thead>\n",
       "  <tbody>\n",
       "    <tr>\n",
       "      <th>0</th>\n",
       "      <td>Avatar</td>\n",
       "      <td>In the 22nd century, a paraplegic Marine is di...</td>\n",
       "      <td>[{\"id\": 28, \"name\": \"Action\"}, {\"id\": 12, \"nam...</td>\n",
       "      <td>Action</td>\n",
       "      <td>[1.0, 0.0, 0.0, 0.0, 0.0, 0.0, 0.0, 0.0, 0.0, ...</td>\n",
       "      <td>[in, the, 22nd, century, a, paraplegic, marine...</td>\n",
       "      <td>28</td>\n",
       "      <td>[0.0, 0.0, 0.0, 0.0, 0.0, 0.0, 0.0, 0.0, 0.0, ...</td>\n",
       "      <td>[0.17130556275128853, 1.2545637565413992, 1.06...</td>\n",
       "      <td>3</td>\n",
       "      <td>13</td>\n",
       "      <td>1.000000</td>\n",
       "    </tr>\n",
       "    <tr>\n",
       "      <th>3363</th>\n",
       "      <td>Warlock</td>\n",
       "      <td>A warlock flees from the 17th to the 20th cent...</td>\n",
       "      <td>[{\"id\": 12, \"name\": \"Adventure\"}, {\"id\": 35, \"...</td>\n",
       "      <td>Fantasy</td>\n",
       "      <td>[0.0, 0.0, 0.0, 0.0, 0.0, 0.0, 0.0, 0.0, 1.0, ...</td>\n",
       "      <td>[a, warlock, flees, from, the, 17th, to, the, ...</td>\n",
       "      <td>122</td>\n",
       "      <td>[0.0, 0.0, 0.0, 0.0, 0.0, 0.0, 0.0, 0.0, 0.0, ...</td>\n",
       "      <td>[0.1428516367454733, 1.1940360295717414, 1.009...</td>\n",
       "      <td>3</td>\n",
       "      <td>12</td>\n",
       "      <td>0.537773</td>\n",
       "    </tr>\n",
       "    <tr>\n",
       "      <th>1285</th>\n",
       "      <td>Nomad: The Warrior</td>\n",
       "      <td>The Nomad is a historical epic set in 18th-cen...</td>\n",
       "      <td>[{\"id\": 28, \"name\": \"Action\"}, {\"id\": 36, \"nam...</td>\n",
       "      <td>Action</td>\n",
       "      <td>[1.0, 0.0, 0.0, 0.0, 0.0, 0.0, 0.0, 0.0, 0.0, ...</td>\n",
       "      <td>[the, nomad, is, a, historical, epic, set, in,...</td>\n",
       "      <td>39</td>\n",
       "      <td>[0.0, 0.0, 0.0, 0.0, 0.0, 0.0, 0.0, 0.0, 0.0, ...</td>\n",
       "      <td>[0.2502330102123695, 1.4192751540296757, 0.331...</td>\n",
       "      <td>1</td>\n",
       "      <td>13</td>\n",
       "      <td>0.478309</td>\n",
       "    </tr>\n",
       "    <tr>\n",
       "      <th>3778</th>\n",
       "      <td>Zipper</td>\n",
       "      <td>Sam Ellis is a man on the rise — a hot-shot fe...</td>\n",
       "      <td>[{\"id\": 53, \"name\": \"Thriller\"}, {\"id\": 18, \"n...</td>\n",
       "      <td>Thriller</td>\n",
       "      <td>[0.0, 0.0, 0.0, 0.0, 0.0, 0.0, 0.0, 0.0, 0.0, ...</td>\n",
       "      <td>[sam, ellis, is, a, man, on, the, rise, a, hot...</td>\n",
       "      <td>48</td>\n",
       "      <td>[0.0, 0.0, 0.0, 0.0, 0.0, 0.0, 0.0, 0.0, 0.0, ...</td>\n",
       "      <td>[0.2149756152197496, 1.408547801772996, 0.5147...</td>\n",
       "      <td>1</td>\n",
       "      <td>13</td>\n",
       "      <td>0.475603</td>\n",
       "    </tr>\n",
       "    <tr>\n",
       "      <th>415</th>\n",
       "      <td>Dredd</td>\n",
       "      <td>In the future, America is a dystopian wastelan...</td>\n",
       "      <td>[{\"id\": 28, \"name\": \"Action\"}, {\"id\": 878, \"na...</td>\n",
       "      <td>Action</td>\n",
       "      <td>[1.0, 0.0, 0.0, 0.0, 0.0, 0.0, 0.0, 0.0, 0.0, ...</td>\n",
       "      <td>[in, the, future, america, is, a, dystopian, w...</td>\n",
       "      <td>87</td>\n",
       "      <td>[0.0, 0.0, 0.0, 0.0, 0.0, 0.0, 0.0, 0.0, 0.0, ...</td>\n",
       "      <td>[0.23152067361935355, 1.4016470372931176, 0.35...</td>\n",
       "      <td>1</td>\n",
       "      <td>13</td>\n",
       "      <td>0.461718</td>\n",
       "    </tr>\n",
       "    <tr>\n",
       "      <th>...</th>\n",
       "      <td>...</td>\n",
       "      <td>...</td>\n",
       "      <td>...</td>\n",
       "      <td>...</td>\n",
       "      <td>...</td>\n",
       "      <td>...</td>\n",
       "      <td>...</td>\n",
       "      <td>...</td>\n",
       "      <td>...</td>\n",
       "      <td>...</td>\n",
       "      <td>...</td>\n",
       "      <td>...</td>\n",
       "    </tr>\n",
       "    <tr>\n",
       "      <th>406</th>\n",
       "      <td>Arthur Christmas</td>\n",
       "      <td>Each Christmas, Santa and his vast army of hig...</td>\n",
       "      <td>[{\"id\": 18, \"name\": \"Drama\"}, {\"id\": 16, \"name...</td>\n",
       "      <td>Comedy</td>\n",
       "      <td>[0.0, 0.0, 0.0, 1.0, 0.0, 0.0, 0.0, 0.0, 0.0, ...</td>\n",
       "      <td>[each, christmas, santa, and, his, vast, army,...</td>\n",
       "      <td>76</td>\n",
       "      <td>[0.0, 0.0, 0.0, 0.0, 0.0, 0.0, 0.0, 0.0, 0.0, ...</td>\n",
       "      <td>[0.060378004907896424, -1.2501400290538238, -1...</td>\n",
       "      <td>2</td>\n",
       "      <td>8</td>\n",
       "      <td>-0.324406</td>\n",
       "    </tr>\n",
       "    <tr>\n",
       "      <th>4632</th>\n",
       "      <td>The Incredibly True Adventure of Two Girls In ...</td>\n",
       "      <td>An adventurous love story between two young wo...</td>\n",
       "      <td>[{\"id\": 35, \"name\": \"Comedy\"}, {\"id\": 18, \"nam...</td>\n",
       "      <td>Romance</td>\n",
       "      <td>[0.0, 0.0, 0.0, 0.0, 0.0, 0.0, 0.0, 0.0, 0.0, ...</td>\n",
       "      <td>[an, adventurous, love, story, between, two, y...</td>\n",
       "      <td>27</td>\n",
       "      <td>[0.0, 0.0, 0.0, 0.0, 0.0, 0.0, 0.0, 0.0, 0.0, ...</td>\n",
       "      <td>[0.14070632835142263, -0.8539432716626406, -0....</td>\n",
       "      <td>2</td>\n",
       "      <td>19</td>\n",
       "      <td>-0.328218</td>\n",
       "    </tr>\n",
       "    <tr>\n",
       "      <th>16</th>\n",
       "      <td>The Avengers</td>\n",
       "      <td>When an unexpected enemy emerges and threatens...</td>\n",
       "      <td>[{\"id\": 878, \"name\": \"Science Fiction\"}, {\"id\"...</td>\n",
       "      <td>Science Fiction</td>\n",
       "      <td>[0.0, 0.0, 0.0, 0.0, 0.0, 0.0, 0.0, 0.0, 0.0, ...</td>\n",
       "      <td>[when, an, unexpected, enemy, emerges, and, th...</td>\n",
       "      <td>47</td>\n",
       "      <td>[0.0, 0.0, 0.0, 0.0, 0.0, 0.0, 0.0, 0.0, 0.0, ...</td>\n",
       "      <td>[0.09052639496236103, -1.2128535249926033, -1....</td>\n",
       "      <td>2</td>\n",
       "      <td>8</td>\n",
       "      <td>-0.329157</td>\n",
       "    </tr>\n",
       "    <tr>\n",
       "      <th>3546</th>\n",
       "      <td>A Room for Romeo Brass</td>\n",
       "      <td>Two twelve-year-old boys, Romeo and Gavin, und...</td>\n",
       "      <td>[{\"id\": 18, \"name\": \"Drama\"}, {\"id\": 35, \"name...</td>\n",
       "      <td>Drama</td>\n",
       "      <td>[0.0, 0.0, 0.0, 0.0, 0.0, 0.0, 1.0, 0.0, 0.0, ...</td>\n",
       "      <td>[two, twelveyearold, boys, romeo, and, gavin, ...</td>\n",
       "      <td>53</td>\n",
       "      <td>[0.0, 0.0, 0.0, 0.0, 0.0, 0.0, 0.0, 0.0, 0.0, ...</td>\n",
       "      <td>[0.09297364291402146, -1.2254547025331615, -1....</td>\n",
       "      <td>2</td>\n",
       "      <td>8</td>\n",
       "      <td>-0.331425</td>\n",
       "    </tr>\n",
       "    <tr>\n",
       "      <th>440</th>\n",
       "      <td>Four Christmases</td>\n",
       "      <td>Brad and Kate have made something of an art fo...</td>\n",
       "      <td>[{\"id\": 35, \"name\": \"Comedy\"}, {\"id\": 10749, \"...</td>\n",
       "      <td>Comedy</td>\n",
       "      <td>[0.0, 0.0, 0.0, 1.0, 0.0, 0.0, 0.0, 0.0, 0.0, ...</td>\n",
       "      <td>[brad, and, kate, have, made, something, of, a...</td>\n",
       "      <td>78</td>\n",
       "      <td>[0.0, 0.0, 0.0, 0.0, 0.0, 0.0, 0.0, 0.0, 0.0, ...</td>\n",
       "      <td>[0.4456589702091046, -0.6651103383784696, -1.2...</td>\n",
       "      <td>2</td>\n",
       "      <td>3</td>\n",
       "      <td>-0.336133</td>\n",
       "    </tr>\n",
       "  </tbody>\n",
       "</table>\n",
       "<p>4707 rows × 12 columns</p>\n",
       "</div>"
      ],
      "text/plain": [
       "                                                  title  \\\n",
       "0                                                Avatar   \n",
       "3363                                            Warlock   \n",
       "1285                                 Nomad: The Warrior   \n",
       "3778                                             Zipper   \n",
       "415                                               Dredd   \n",
       "...                                                 ...   \n",
       "406                                    Arthur Christmas   \n",
       "4632  The Incredibly True Adventure of Two Girls In ...   \n",
       "16                                         The Avengers   \n",
       "3546                             A Room for Romeo Brass   \n",
       "440                                    Four Christmases   \n",
       "\n",
       "                                               overview  \\\n",
       "0     In the 22nd century, a paraplegic Marine is di...   \n",
       "3363  A warlock flees from the 17th to the 20th cent...   \n",
       "1285  The Nomad is a historical epic set in 18th-cen...   \n",
       "3778  Sam Ellis is a man on the rise — a hot-shot fe...   \n",
       "415   In the future, America is a dystopian wastelan...   \n",
       "...                                                 ...   \n",
       "406   Each Christmas, Santa and his vast army of hig...   \n",
       "4632  An adventurous love story between two young wo...   \n",
       "16    When an unexpected enemy emerges and threatens...   \n",
       "3546  Two twelve-year-old boys, Romeo and Gavin, und...   \n",
       "440   Brad and Kate have made something of an art fo...   \n",
       "\n",
       "                                                 genres      proc_genres  \\\n",
       "0     [{\"id\": 28, \"name\": \"Action\"}, {\"id\": 12, \"nam...           Action   \n",
       "3363  [{\"id\": 12, \"name\": \"Adventure\"}, {\"id\": 35, \"...          Fantasy   \n",
       "1285  [{\"id\": 28, \"name\": \"Action\"}, {\"id\": 36, \"nam...           Action   \n",
       "3778  [{\"id\": 53, \"name\": \"Thriller\"}, {\"id\": 18, \"n...         Thriller   \n",
       "415   [{\"id\": 28, \"name\": \"Action\"}, {\"id\": 878, \"na...           Action   \n",
       "...                                                 ...              ...   \n",
       "406   [{\"id\": 18, \"name\": \"Drama\"}, {\"id\": 16, \"name...           Comedy   \n",
       "4632  [{\"id\": 35, \"name\": \"Comedy\"}, {\"id\": 18, \"nam...          Romance   \n",
       "16    [{\"id\": 878, \"name\": \"Science Fiction\"}, {\"id\"...  Science Fiction   \n",
       "3546  [{\"id\": 18, \"name\": \"Drama\"}, {\"id\": 35, \"name...            Drama   \n",
       "440   [{\"id\": 35, \"name\": \"Comedy\"}, {\"id\": 10749, \"...           Comedy   \n",
       "\n",
       "                                         one_hot_genres  \\\n",
       "0     [1.0, 0.0, 0.0, 0.0, 0.0, 0.0, 0.0, 0.0, 0.0, ...   \n",
       "3363  [0.0, 0.0, 0.0, 0.0, 0.0, 0.0, 0.0, 0.0, 1.0, ...   \n",
       "1285  [1.0, 0.0, 0.0, 0.0, 0.0, 0.0, 0.0, 0.0, 0.0, ...   \n",
       "3778  [0.0, 0.0, 0.0, 0.0, 0.0, 0.0, 0.0, 0.0, 0.0, ...   \n",
       "415   [1.0, 0.0, 0.0, 0.0, 0.0, 0.0, 0.0, 0.0, 0.0, ...   \n",
       "...                                                 ...   \n",
       "406   [0.0, 0.0, 0.0, 1.0, 0.0, 0.0, 0.0, 0.0, 0.0, ...   \n",
       "4632  [0.0, 0.0, 0.0, 0.0, 0.0, 0.0, 0.0, 0.0, 0.0, ...   \n",
       "16    [0.0, 0.0, 0.0, 0.0, 0.0, 0.0, 0.0, 0.0, 0.0, ...   \n",
       "3546  [0.0, 0.0, 0.0, 0.0, 0.0, 0.0, 1.0, 0.0, 0.0, ...   \n",
       "440   [0.0, 0.0, 0.0, 1.0, 0.0, 0.0, 0.0, 0.0, 0.0, ...   \n",
       "\n",
       "                                          proc_overview  overview_len  \\\n",
       "0     [in, the, 22nd, century, a, paraplegic, marine...            28   \n",
       "3363  [a, warlock, flees, from, the, 17th, to, the, ...           122   \n",
       "1285  [the, nomad, is, a, historical, epic, set, in,...            39   \n",
       "3778  [sam, ellis, is, a, man, on, the, rise, a, hot...            48   \n",
       "415   [in, the, future, america, is, a, dystopian, w...            87   \n",
       "...                                                 ...           ...   \n",
       "406   [each, christmas, santa, and, his, vast, army,...            76   \n",
       "4632  [an, adventurous, love, story, between, two, y...            27   \n",
       "16    [when, an, unexpected, enemy, emerges, and, th...            47   \n",
       "3546  [two, twelveyearold, boys, romeo, and, gavin, ...            53   \n",
       "440   [brad, and, kate, have, made, something, of, a...            78   \n",
       "\n",
       "                                       one_hot_overview  \\\n",
       "0     [0.0, 0.0, 0.0, 0.0, 0.0, 0.0, 0.0, 0.0, 0.0, ...   \n",
       "3363  [0.0, 0.0, 0.0, 0.0, 0.0, 0.0, 0.0, 0.0, 0.0, ...   \n",
       "1285  [0.0, 0.0, 0.0, 0.0, 0.0, 0.0, 0.0, 0.0, 0.0, ...   \n",
       "3778  [0.0, 0.0, 0.0, 0.0, 0.0, 0.0, 0.0, 0.0, 0.0, ...   \n",
       "415   [0.0, 0.0, 0.0, 0.0, 0.0, 0.0, 0.0, 0.0, 0.0, ...   \n",
       "...                                                 ...   \n",
       "406   [0.0, 0.0, 0.0, 0.0, 0.0, 0.0, 0.0, 0.0, 0.0, ...   \n",
       "4632  [0.0, 0.0, 0.0, 0.0, 0.0, 0.0, 0.0, 0.0, 0.0, ...   \n",
       "16    [0.0, 0.0, 0.0, 0.0, 0.0, 0.0, 0.0, 0.0, 0.0, ...   \n",
       "3546  [0.0, 0.0, 0.0, 0.0, 0.0, 0.0, 0.0, 0.0, 0.0, ...   \n",
       "440   [0.0, 0.0, 0.0, 0.0, 0.0, 0.0, 0.0, 0.0, 0.0, ...   \n",
       "\n",
       "                                           overview_pca  cluster_kmeans  \\\n",
       "0     [0.17130556275128853, 1.2545637565413992, 1.06...               3   \n",
       "3363  [0.1428516367454733, 1.1940360295717414, 1.009...               3   \n",
       "1285  [0.2502330102123695, 1.4192751540296757, 0.331...               1   \n",
       "3778  [0.2149756152197496, 1.408547801772996, 0.5147...               1   \n",
       "415   [0.23152067361935355, 1.4016470372931176, 0.35...               1   \n",
       "...                                                 ...             ...   \n",
       "406   [0.060378004907896424, -1.2501400290538238, -1...               2   \n",
       "4632  [0.14070632835142263, -0.8539432716626406, -0....               2   \n",
       "16    [0.09052639496236103, -1.2128535249926033, -1....               2   \n",
       "3546  [0.09297364291402146, -1.2254547025331615, -1....               2   \n",
       "440   [0.4456589702091046, -0.6651103383784696, -1.2...               2   \n",
       "\n",
       "      cluster_gmm  cos_sim_to_avatar  \n",
       "0              13           1.000000  \n",
       "3363           12           0.537773  \n",
       "1285           13           0.478309  \n",
       "3778           13           0.475603  \n",
       "415            13           0.461718  \n",
       "...           ...                ...  \n",
       "406             8          -0.324406  \n",
       "4632           19          -0.328218  \n",
       "16              8          -0.329157  \n",
       "3546            8          -0.331425  \n",
       "440             3          -0.336133  \n",
       "\n",
       "[4707 rows x 12 columns]"
      ]
     },
     "execution_count": 199,
     "metadata": {},
     "output_type": "execute_result"
    }
   ],
   "source": [
    "def cosine_sim(v1, v2):\n",
    "    return np.dot(v1, v2) / (np.linalg.norm(v1) * np.linalg.norm(v2))\n",
    "\n",
    "# get overview_pca encoding of previously watched film\n",
    "prev_watch_enc = df[df['title'] == prev_watch]['overview_pca'].iloc[0]\n",
    "\n",
    "sims = [] # set up place to store similarities\n",
    "for i, row in df.iterrows():\n",
    "    sims.append(cosine_sim(prev_watch_enc, df['overview_pca'].loc[i]))\n",
    "\n",
    "df[\"cos_sim_to_avatar\"] = sims \n",
    "df = df.sort_values(by='cos_sim_to_avatar', ascending=False) # sort df\n",
    "df # print to verify"
   ]
  },
  {
   "cell_type": "markdown",
   "id": "40391e82",
   "metadata": {},
   "source": [
    "it doesnt seem that much better to be honest :("
   ]
  },
  {
   "cell_type": "markdown",
   "id": "a7b1e343",
   "metadata": {},
   "source": [
    "# Q7 Unsupervised Learning as a Tool\n",
    "\n",
    "At the end of this brief forey into natural language processing, we will end with an interesting task: can a machine predict the genre of a movie based purely on the first 10 words of its overview?\n",
    "\n",
    "First, the following cell shuffles the dataset and splits it into a training and test set. The random seed and random state ensure that the train and test samples are the same for you all the time, and *probably* your classmates too. You can verify this by printing out the dataframes and checking it for yourself."
   ]
  },
  {
   "cell_type": "code",
   "execution_count": 203,
   "id": "f5b1bde1",
   "metadata": {},
   "outputs": [
    {
     "name": "stdout",
     "output_type": "stream",
     "text": [
      "3765 942\n"
     ]
    }
   ],
   "source": [
    "np.random.seed(0)\n",
    "n_train = int(0.8*len(df))\n",
    "df_shuffle = df.sample(frac=1, random_state=42).reset_index(drop=True)\n",
    "df_train = df_shuffle[:n_train].reset_index(drop=True)\n",
    "df_test = df_shuffle[n_train:].reset_index(drop=True)\n",
    "print(len(df_train), len(df_test))"
   ]
  },
  {
   "cell_type": "code",
   "execution_count": 201,
   "id": "27a193a0",
   "metadata": {},
   "outputs": [
    {
     "data": {
      "text/html": [
       "<div>\n",
       "<style scoped>\n",
       "    .dataframe tbody tr th:only-of-type {\n",
       "        vertical-align: middle;\n",
       "    }\n",
       "\n",
       "    .dataframe tbody tr th {\n",
       "        vertical-align: top;\n",
       "    }\n",
       "\n",
       "    .dataframe thead th {\n",
       "        text-align: right;\n",
       "    }\n",
       "</style>\n",
       "<table border=\"1\" class=\"dataframe\">\n",
       "  <thead>\n",
       "    <tr style=\"text-align: right;\">\n",
       "      <th></th>\n",
       "      <th>title</th>\n",
       "      <th>overview</th>\n",
       "      <th>genres</th>\n",
       "      <th>proc_genres</th>\n",
       "      <th>one_hot_genres</th>\n",
       "      <th>proc_overview</th>\n",
       "      <th>overview_len</th>\n",
       "      <th>one_hot_overview</th>\n",
       "      <th>overview_pca</th>\n",
       "      <th>cluster_kmeans</th>\n",
       "      <th>cluster_gmm</th>\n",
       "      <th>cos_sim_to_avatar</th>\n",
       "    </tr>\n",
       "  </thead>\n",
       "  <tbody>\n",
       "    <tr>\n",
       "      <th>0</th>\n",
       "      <td>The Smurfs 2</td>\n",
       "      <td>The evil wizard Gargamel creates a couple of m...</td>\n",
       "      <td>[{\"id\": 14, \"name\": \"Fantasy\"}, {\"id\": 10751, ...</td>\n",
       "      <td>Animation</td>\n",
       "      <td>[0.0, 0.0, 1.0, 0.0, 0.0, 0.0, 0.0, 0.0, 0.0, ...</td>\n",
       "      <td>[the, evil, wizard, gargamel, creates, a, coup...</td>\n",
       "      <td>137</td>\n",
       "      <td>[0.0, 0.0, 0.0, 0.0, 0.0, 0.0, 0.0, 0.0, 0.0, ...</td>\n",
       "      <td>[1.108592897822117, 0.8979605723536048, 0.1250...</td>\n",
       "      <td>3</td>\n",
       "      <td>15</td>\n",
       "      <td>0.090513</td>\n",
       "    </tr>\n",
       "    <tr>\n",
       "      <th>1</th>\n",
       "      <td>Sabotage</td>\n",
       "      <td>In \"Sabotage\", Arnold Schwarzenegger leads an ...</td>\n",
       "      <td>[{\"id\": 28, \"name\": \"Action\"}, {\"id\": 18, \"nam...</td>\n",
       "      <td>Thriller</td>\n",
       "      <td>[0.0, 0.0, 0.0, 0.0, 0.0, 0.0, 0.0, 0.0, 0.0, ...</td>\n",
       "      <td>[in, sabotage, arnold, schwarzenegger, leads, ...</td>\n",
       "      <td>56</td>\n",
       "      <td>[0.0, 0.0, 0.0, 0.0, 0.0, 0.0, 0.0, 0.0, 0.0, ...</td>\n",
       "      <td>[0.6400347314750024, -0.5815859863811829, -0.0...</td>\n",
       "      <td>12</td>\n",
       "      <td>10</td>\n",
       "      <td>0.046465</td>\n",
       "    </tr>\n",
       "    <tr>\n",
       "      <th>2</th>\n",
       "      <td>Princess Kaiulani</td>\n",
       "      <td>Lush scenery and gorgeous photography highligh...</td>\n",
       "      <td>[{\"id\": 18, \"name\": \"Drama\"}]</td>\n",
       "      <td>Drama</td>\n",
       "      <td>[0.0, 0.0, 0.0, 0.0, 0.0, 0.0, 1.0, 0.0, 0.0, ...</td>\n",
       "      <td>[lush, scenery, and, gorgeous, photography, hi...</td>\n",
       "      <td>66</td>\n",
       "      <td>[0.0, 0.0, 0.0, 0.0, 0.0, 0.0, 0.0, 0.0, 0.0, ...</td>\n",
       "      <td>[-0.4059956825769514, -0.09203946262476938, -0...</td>\n",
       "      <td>9</td>\n",
       "      <td>16</td>\n",
       "      <td>-0.206702</td>\n",
       "    </tr>\n",
       "    <tr>\n",
       "      <th>3</th>\n",
       "      <td>Taken 3</td>\n",
       "      <td>Ex-government operative Bryan Mills finds his ...</td>\n",
       "      <td>[{\"id\": 53, \"name\": \"Thriller\"}, {\"id\": 28, \"n...</td>\n",
       "      <td>Action</td>\n",
       "      <td>[1.0, 0.0, 0.0, 0.0, 0.0, 0.0, 0.0, 0.0, 0.0, ...</td>\n",
       "      <td>[exgovernment, operative, bryan, mills, finds,...</td>\n",
       "      <td>48</td>\n",
       "      <td>[0.0, 0.0, 0.0, 0.0, 0.0, 0.0, 0.0, 0.0, 0.0, ...</td>\n",
       "      <td>[-0.4860587632311859, -0.054988793774529615, -...</td>\n",
       "      <td>0</td>\n",
       "      <td>4</td>\n",
       "      <td>-0.114767</td>\n",
       "    </tr>\n",
       "    <tr>\n",
       "      <th>4</th>\n",
       "      <td>The Sessions</td>\n",
       "      <td>Though a childhood bout with polio left him de...</td>\n",
       "      <td>[{\"id\": 18, \"name\": \"Drama\"}, {\"id\": 10749, \"n...</td>\n",
       "      <td>Romance</td>\n",
       "      <td>[0.0, 0.0, 0.0, 0.0, 0.0, 0.0, 0.0, 0.0, 0.0, ...</td>\n",
       "      <td>[though, a, childhood, bout, with, polio, left...</td>\n",
       "      <td>72</td>\n",
       "      <td>[0.0, 0.0, 0.0, 0.0, 0.0, 0.0, 0.0, 0.0, 0.0, ...</td>\n",
       "      <td>[-0.7523233494234971, -0.2837538121429782, -0....</td>\n",
       "      <td>16</td>\n",
       "      <td>19</td>\n",
       "      <td>-0.053451</td>\n",
       "    </tr>\n",
       "    <tr>\n",
       "      <th>...</th>\n",
       "      <td>...</td>\n",
       "      <td>...</td>\n",
       "      <td>...</td>\n",
       "      <td>...</td>\n",
       "      <td>...</td>\n",
       "      <td>...</td>\n",
       "      <td>...</td>\n",
       "      <td>...</td>\n",
       "      <td>...</td>\n",
       "      <td>...</td>\n",
       "      <td>...</td>\n",
       "      <td>...</td>\n",
       "    </tr>\n",
       "    <tr>\n",
       "      <th>3760</th>\n",
       "      <td>Moneyball</td>\n",
       "      <td>The story of Oakland Athletics general manager...</td>\n",
       "      <td>[{\"id\": 18, \"name\": \"Drama\"}]</td>\n",
       "      <td>Drama</td>\n",
       "      <td>[0.0, 0.0, 0.0, 0.0, 0.0, 0.0, 1.0, 0.0, 0.0, ...</td>\n",
       "      <td>[the, story, of, oakland, athletics, general, ...</td>\n",
       "      <td>28</td>\n",
       "      <td>[0.0, 0.0, 0.0, 0.0, 0.0, 0.0, 0.0, 0.0, 0.0, ...</td>\n",
       "      <td>[0.32233137589826116, 0.39241863531856874, 0.6...</td>\n",
       "      <td>3</td>\n",
       "      <td>17</td>\n",
       "      <td>0.036662</td>\n",
       "    </tr>\n",
       "    <tr>\n",
       "      <th>3761</th>\n",
       "      <td>Futuro Beach</td>\n",
       "      <td>Donato fails in his attempt to save a drowning...</td>\n",
       "      <td>[{\"id\": 18, \"name\": \"Drama\"}]</td>\n",
       "      <td>Drama</td>\n",
       "      <td>[0.0, 0.0, 0.0, 0.0, 0.0, 0.0, 1.0, 0.0, 0.0, ...</td>\n",
       "      <td>[donato, fails, in, his, attempt, to, save, a,...</td>\n",
       "      <td>33</td>\n",
       "      <td>[0.0, 0.0, 0.0, 0.0, 0.0, 0.0, 0.0, 0.0, 0.0, ...</td>\n",
       "      <td>[0.19356145471853675, 0.027779771922124403, -0...</td>\n",
       "      <td>9</td>\n",
       "      <td>11</td>\n",
       "      <td>0.050636</td>\n",
       "    </tr>\n",
       "    <tr>\n",
       "      <th>3762</th>\n",
       "      <td>Perfume: The Story of a Murderer</td>\n",
       "      <td>Jean-Baptiste Grenouille, born in the stench o...</td>\n",
       "      <td>[{\"id\": 80, \"name\": \"Crime\"}, {\"id\": 14, \"name...</td>\n",
       "      <td>Crime</td>\n",
       "      <td>[0.0, 0.0, 0.0, 0.0, 1.0, 0.0, 0.0, 0.0, 0.0, ...</td>\n",
       "      <td>[jeanbaptiste, grenouille, born, in, the, sten...</td>\n",
       "      <td>44</td>\n",
       "      <td>[0.0, 0.0, 0.0, 0.0, 0.0, 0.0, 0.0, 0.0, 0.0, ...</td>\n",
       "      <td>[0.38945342734643884, 0.5817728914475145, -0.2...</td>\n",
       "      <td>3</td>\n",
       "      <td>9</td>\n",
       "      <td>0.176745</td>\n",
       "    </tr>\n",
       "    <tr>\n",
       "      <th>3763</th>\n",
       "      <td>State of Play</td>\n",
       "      <td>Handsome, unflappable U.S. Congressman Stephen...</td>\n",
       "      <td>[{\"id\": 28, \"name\": \"Action\"}]</td>\n",
       "      <td>Action</td>\n",
       "      <td>[1.0, 0.0, 0.0, 0.0, 0.0, 0.0, 0.0, 0.0, 0.0, ...</td>\n",
       "      <td>[handsome, unflappable, us, congressman, steph...</td>\n",
       "      <td>57</td>\n",
       "      <td>[0.0, 0.0, 0.0, 0.0, 0.0, 0.0, 0.0, 0.0, 0.0, ...</td>\n",
       "      <td>[0.8432609517293417, -0.4869487297933318, -0.0...</td>\n",
       "      <td>1</td>\n",
       "      <td>19</td>\n",
       "      <td>-0.102629</td>\n",
       "    </tr>\n",
       "    <tr>\n",
       "      <th>3764</th>\n",
       "      <td>Bandslam</td>\n",
       "      <td>A high school social outcast and the popular g...</td>\n",
       "      <td>[{\"id\": 35, \"name\": \"Comedy\"}, {\"id\": 18, \"nam...</td>\n",
       "      <td>Drama</td>\n",
       "      <td>[0.0, 0.0, 0.0, 0.0, 0.0, 0.0, 1.0, 0.0, 0.0, ...</td>\n",
       "      <td>[a, high, school, social, outcast, and, the, p...</td>\n",
       "      <td>16</td>\n",
       "      <td>[0.0, 0.0, 0.0, 0.0, 0.0, 0.0, 0.0, 0.0, 0.0, ...</td>\n",
       "      <td>[-0.2501218952715169, 1.0666050607179083, -0.6...</td>\n",
       "      <td>5</td>\n",
       "      <td>0</td>\n",
       "      <td>0.037062</td>\n",
       "    </tr>\n",
       "  </tbody>\n",
       "</table>\n",
       "<p>3765 rows × 12 columns</p>\n",
       "</div>"
      ],
      "text/plain": [
       "                                 title  \\\n",
       "0                         The Smurfs 2   \n",
       "1                             Sabotage   \n",
       "2                    Princess Kaiulani   \n",
       "3                              Taken 3   \n",
       "4                         The Sessions   \n",
       "...                                ...   \n",
       "3760                         Moneyball   \n",
       "3761                      Futuro Beach   \n",
       "3762  Perfume: The Story of a Murderer   \n",
       "3763                     State of Play   \n",
       "3764                          Bandslam   \n",
       "\n",
       "                                               overview  \\\n",
       "0     The evil wizard Gargamel creates a couple of m...   \n",
       "1     In \"Sabotage\", Arnold Schwarzenegger leads an ...   \n",
       "2     Lush scenery and gorgeous photography highligh...   \n",
       "3     Ex-government operative Bryan Mills finds his ...   \n",
       "4     Though a childhood bout with polio left him de...   \n",
       "...                                                 ...   \n",
       "3760  The story of Oakland Athletics general manager...   \n",
       "3761  Donato fails in his attempt to save a drowning...   \n",
       "3762  Jean-Baptiste Grenouille, born in the stench o...   \n",
       "3763  Handsome, unflappable U.S. Congressman Stephen...   \n",
       "3764  A high school social outcast and the popular g...   \n",
       "\n",
       "                                                 genres proc_genres  \\\n",
       "0     [{\"id\": 14, \"name\": \"Fantasy\"}, {\"id\": 10751, ...   Animation   \n",
       "1     [{\"id\": 28, \"name\": \"Action\"}, {\"id\": 18, \"nam...    Thriller   \n",
       "2                         [{\"id\": 18, \"name\": \"Drama\"}]       Drama   \n",
       "3     [{\"id\": 53, \"name\": \"Thriller\"}, {\"id\": 28, \"n...      Action   \n",
       "4     [{\"id\": 18, \"name\": \"Drama\"}, {\"id\": 10749, \"n...     Romance   \n",
       "...                                                 ...         ...   \n",
       "3760                      [{\"id\": 18, \"name\": \"Drama\"}]       Drama   \n",
       "3761                      [{\"id\": 18, \"name\": \"Drama\"}]       Drama   \n",
       "3762  [{\"id\": 80, \"name\": \"Crime\"}, {\"id\": 14, \"name...       Crime   \n",
       "3763                     [{\"id\": 28, \"name\": \"Action\"}]      Action   \n",
       "3764  [{\"id\": 35, \"name\": \"Comedy\"}, {\"id\": 18, \"nam...       Drama   \n",
       "\n",
       "                                         one_hot_genres  \\\n",
       "0     [0.0, 0.0, 1.0, 0.0, 0.0, 0.0, 0.0, 0.0, 0.0, ...   \n",
       "1     [0.0, 0.0, 0.0, 0.0, 0.0, 0.0, 0.0, 0.0, 0.0, ...   \n",
       "2     [0.0, 0.0, 0.0, 0.0, 0.0, 0.0, 1.0, 0.0, 0.0, ...   \n",
       "3     [1.0, 0.0, 0.0, 0.0, 0.0, 0.0, 0.0, 0.0, 0.0, ...   \n",
       "4     [0.0, 0.0, 0.0, 0.0, 0.0, 0.0, 0.0, 0.0, 0.0, ...   \n",
       "...                                                 ...   \n",
       "3760  [0.0, 0.0, 0.0, 0.0, 0.0, 0.0, 1.0, 0.0, 0.0, ...   \n",
       "3761  [0.0, 0.0, 0.0, 0.0, 0.0, 0.0, 1.0, 0.0, 0.0, ...   \n",
       "3762  [0.0, 0.0, 0.0, 0.0, 1.0, 0.0, 0.0, 0.0, 0.0, ...   \n",
       "3763  [1.0, 0.0, 0.0, 0.0, 0.0, 0.0, 0.0, 0.0, 0.0, ...   \n",
       "3764  [0.0, 0.0, 0.0, 0.0, 0.0, 0.0, 1.0, 0.0, 0.0, ...   \n",
       "\n",
       "                                          proc_overview  overview_len  \\\n",
       "0     [the, evil, wizard, gargamel, creates, a, coup...           137   \n",
       "1     [in, sabotage, arnold, schwarzenegger, leads, ...            56   \n",
       "2     [lush, scenery, and, gorgeous, photography, hi...            66   \n",
       "3     [exgovernment, operative, bryan, mills, finds,...            48   \n",
       "4     [though, a, childhood, bout, with, polio, left...            72   \n",
       "...                                                 ...           ...   \n",
       "3760  [the, story, of, oakland, athletics, general, ...            28   \n",
       "3761  [donato, fails, in, his, attempt, to, save, a,...            33   \n",
       "3762  [jeanbaptiste, grenouille, born, in, the, sten...            44   \n",
       "3763  [handsome, unflappable, us, congressman, steph...            57   \n",
       "3764  [a, high, school, social, outcast, and, the, p...            16   \n",
       "\n",
       "                                       one_hot_overview  \\\n",
       "0     [0.0, 0.0, 0.0, 0.0, 0.0, 0.0, 0.0, 0.0, 0.0, ...   \n",
       "1     [0.0, 0.0, 0.0, 0.0, 0.0, 0.0, 0.0, 0.0, 0.0, ...   \n",
       "2     [0.0, 0.0, 0.0, 0.0, 0.0, 0.0, 0.0, 0.0, 0.0, ...   \n",
       "3     [0.0, 0.0, 0.0, 0.0, 0.0, 0.0, 0.0, 0.0, 0.0, ...   \n",
       "4     [0.0, 0.0, 0.0, 0.0, 0.0, 0.0, 0.0, 0.0, 0.0, ...   \n",
       "...                                                 ...   \n",
       "3760  [0.0, 0.0, 0.0, 0.0, 0.0, 0.0, 0.0, 0.0, 0.0, ...   \n",
       "3761  [0.0, 0.0, 0.0, 0.0, 0.0, 0.0, 0.0, 0.0, 0.0, ...   \n",
       "3762  [0.0, 0.0, 0.0, 0.0, 0.0, 0.0, 0.0, 0.0, 0.0, ...   \n",
       "3763  [0.0, 0.0, 0.0, 0.0, 0.0, 0.0, 0.0, 0.0, 0.0, ...   \n",
       "3764  [0.0, 0.0, 0.0, 0.0, 0.0, 0.0, 0.0, 0.0, 0.0, ...   \n",
       "\n",
       "                                           overview_pca  cluster_kmeans  \\\n",
       "0     [1.108592897822117, 0.8979605723536048, 0.1250...               3   \n",
       "1     [0.6400347314750024, -0.5815859863811829, -0.0...              12   \n",
       "2     [-0.4059956825769514, -0.09203946262476938, -0...               9   \n",
       "3     [-0.4860587632311859, -0.054988793774529615, -...               0   \n",
       "4     [-0.7523233494234971, -0.2837538121429782, -0....              16   \n",
       "...                                                 ...             ...   \n",
       "3760  [0.32233137589826116, 0.39241863531856874, 0.6...               3   \n",
       "3761  [0.19356145471853675, 0.027779771922124403, -0...               9   \n",
       "3762  [0.38945342734643884, 0.5817728914475145, -0.2...               3   \n",
       "3763  [0.8432609517293417, -0.4869487297933318, -0.0...               1   \n",
       "3764  [-0.2501218952715169, 1.0666050607179083, -0.6...               5   \n",
       "\n",
       "      cluster_gmm  cos_sim_to_avatar  \n",
       "0              15           0.090513  \n",
       "1              10           0.046465  \n",
       "2              16          -0.206702  \n",
       "3               4          -0.114767  \n",
       "4              19          -0.053451  \n",
       "...           ...                ...  \n",
       "3760           17           0.036662  \n",
       "3761           11           0.050636  \n",
       "3762            9           0.176745  \n",
       "3763           19          -0.102629  \n",
       "3764            0           0.037062  \n",
       "\n",
       "[3765 rows x 12 columns]"
      ]
     },
     "execution_count": 201,
     "metadata": {},
     "output_type": "execute_result"
    }
   ],
   "source": [
    "df_train"
   ]
  },
  {
   "cell_type": "markdown",
   "id": "92f9d534",
   "metadata": {},
   "source": [
    "## Train, test, evaluate\n",
    "\n",
    "Using a supervised learning method of your choice, try predicting the genre of a movie from the overview. The way you preprocess your data is up to you, and you can take inspiration from the above exercises (e.g. PCA on the one-hot encodings as input, one-hot label encodings as output). There are a number of hyperparameters you can choose depending on your selected method (number of words in your overview, number of dimensions, number of clusters, hyperparameters of your supervised model...), thus, make sure to perform hyperparameter optimization in some way (grid-search, fine-tuning, etc). Once you are happy with how your model is performing, **print out the train_score (accuracy$\\in[0,1]$), test_score (accuracy$\\in[0,1]$), mean training time (in seconds), and mean inference time (in seconds) of your model**.\n",
    "\n",
    "If you are already excited about neural networks, you may also choose to use that as your supervised method. The easiest way to do it is with sklearn's `MLPClassifier` module. The main hyperparameter you would need to tune is the architecture of your model -- how many hidden layers, and how large is each one. For this task, in order to get best performance, you do not necessarily need an MLP (multi-layer perceptron) but feel free to experiment.\n",
    "\n",
    "*Hint: the `train_and_eval` function from the last assignment should be of great help here*"
   ]
  },
  {
   "cell_type": "code",
   "execution_count": 208,
   "id": "8bcc37a7",
   "metadata": {},
   "outputs": [
    {
     "name": "stderr",
     "output_type": "stream",
     "text": [
      "/Users/sanjayvonk/Library/Python/3.9/lib/python/site-packages/sklearn/model_selection/_split.py:737: UserWarning: The least populated class in y has only 2 members, which is less than n_splits=3.\n",
      "  warnings.warn(\n"
     ]
    },
    {
     "data": {
      "text/plain": [
       "(0.3301460823373174,\n",
       " 0.2537154989384289,\n",
       " 7.055767059326172,\n",
       " 4.908741702779018e-06)"
      ]
     },
     "execution_count": 208,
     "metadata": {},
     "output_type": "execute_result"
    }
   ],
   "source": [
    "from sklearn.model_selection import train_test_split, GridSearchCV\n",
    "from sklearn.feature_extraction.text import TfidfVectorizer\n",
    "from sklearn.ensemble import RandomForestClassifier\n",
    "from sklearn.preprocessing import LabelEncoder\n",
    "from sklearn.metrics import accuracy_score\n",
    "from time import time\n",
    "import numpy as np\n",
    "\n",
    "# Preprocessing: Extract the first 10 words from the overviews\n",
    "df_train['first_10_words'] = df_train['overview'].apply(lambda x: ' '.join(x.split()[:10]))\n",
    "df_test['first_10_words'] = df_test['overview'].apply(lambda x: ' '.join(x.split()[:10]))\n",
    "\n",
    "# Feature Extraction: TF-IDF Vectorization\n",
    "tfidf_vectorizer = TfidfVectorizer(max_features=1000)  # Limiting to 1000 features for simplicity\n",
    "X_train_tfidf = tfidf_vectorizer.fit_transform(df_train['first_10_words'])\n",
    "X_test_tfidf = tfidf_vectorizer.transform(df_test['first_10_words'])\n",
    "\n",
    "# Label Encoding\n",
    "label_encoder = LabelEncoder()\n",
    "y_train_encoded = label_encoder.fit_transform(df_train['proc_genres'])\n",
    "y_test_encoded = label_encoder.transform(df_test['proc_genres'])\n",
    "\n",
    "# Model Training: Random Forest Classifier\n",
    "rf_classifier = RandomForestClassifier(random_state=42)\n",
    "param_grid = {'n_estimators': [100, 200], 'max_depth': [10, 20, None]}\n",
    "\n",
    "grid_search = GridSearchCV(rf_classifier, param_grid, cv=3, scoring='accuracy')\n",
    "start_time = time()\n",
    "grid_search.fit(X_train_tfidf, y_train_encoded)\n",
    "training_time = time() - start_time\n",
    "\n",
    "# Evaluation\n",
    "best_model = grid_search.best_estimator_\n",
    "start_time = time()\n",
    "y_pred_train = best_model.predict(X_train_tfidf)\n",
    "inference_time_train = (time() - start_time) / len(df_train)\n",
    "start_time = time()\n",
    "y_pred_test = best_model.predict(X_test_tfidf)\n",
    "inference_time_test = (time() - start_time) / len(df_test)\n",
    "\n",
    "train_score = accuracy_score(y_train_encoded, y_pred_train)\n",
    "test_score = accuracy_score(y_test_encoded, y_pred_test)\n",
    "mean_inference_time = np.mean([inference_time_train, inference_time_test])\n",
    "\n",
    "# Results\n",
    "train_score, test_score, training_time, mean_inference_time"
   ]
  },
  {
   "cell_type": "markdown",
   "id": "5976997e",
   "metadata": {},
   "source": [
    "Write a paragraph of ~150 words about how you went about selecting and tuning your model, and how you may want to make improvements to your model if you were to continue working on this. Plots are very good but not strictly necessary (i.e. try to add plots if you can)."
   ]
  },
  {
   "cell_type": "markdown",
   "id": "9e578ad5",
   "metadata": {},
   "source": [
    "I unfortunately had a very busy week and didnt have the time to work on my own implementation, so I worked with chatgpt to get one here was my result"
   ]
  },
  {
   "cell_type": "markdown",
   "id": "14b50007",
   "metadata": {},
   "source": [
    "# BONUS\n",
    "\n",
    "If you are happy with your score and wish to see how well it is doing with respect to other people (a sort of mini-competition), fill out the following form with the train_score (accuracy$\\in[0,1]$), test_score (accuracy$\\in[0,1]$), mean training time (in seconds), and mean inference time (in seconds) of your model, as well as what method you use. You can submit as many times before the deadline as you wish. Your final results will be correlated with your submission in order to validate your results (if we cannot validate them, they will be immediately disqualified).\n",
    "\n",
    "[FORM HERE](https://forms.gle/rXRtXScABH5oDLRWA)"
   ]
  }
 ],
 "metadata": {
  "kernelspec": {
   "display_name": "Python 3 (ipykernel)",
   "language": "python",
   "name": "python3"
  },
  "language_info": {
   "codemirror_mode": {
    "name": "ipython",
    "version": 3
   },
   "file_extension": ".py",
   "mimetype": "text/x-python",
   "name": "python",
   "nbconvert_exporter": "python",
   "pygments_lexer": "ipython3",
   "version": "3.9.6"
  }
 },
 "nbformat": 4,
 "nbformat_minor": 5
}
